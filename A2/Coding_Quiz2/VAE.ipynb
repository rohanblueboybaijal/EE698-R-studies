{
 "cells": [
  {
   "cell_type": "code",
   "execution_count": 1,
   "metadata": {},
   "outputs": [],
   "source": [
    "import CodingQuiz1lib as given\n",
    "import numpy as np\n",
    "np.random.seed(5)\n",
    "import matplotlib.pyplot as plt\n",
    "from mpl_toolkits import mplot3d\n",
    "import torch\n",
    "from torch import nn, optim\n",
    "import torch.nn.functional as F\n",
    "from torch.utils.data import DataLoader\n",
    "import tqdm"
   ]
  },
  {
   "cell_type": "code",
   "execution_count": 2,
   "metadata": {},
   "outputs": [
    {
     "name": "stdout",
     "output_type": "stream",
     "text": [
      "[0.01404067 0.11816142 0.40426436 0.45028626 0.01324729]\n",
      "[ 1465 11818 40808 44541  1368]\n"
     ]
    },
    {
     "data": {
      "image/png": "[encoded data removed]",
      "text/plain": [
       "<Figure size 360x360 with 1 Axes>"
      ]
     },
     "metadata": {
      "needs_background": "light"
     },
     "output_type": "display_data"
    }
   ],
   "source": [
    "# CREATING THE TARGET DISTRIBUTION ACCORDING TO LIBRARY\n",
    "ptarget = given.GMM()\n",
    "samples = ptarget.sample(100000) # to obtain samples\n",
    "given.plot_samples_2d(samples)"
   ]
  },
  {
   "cell_type": "code",
   "execution_count": 3,
   "metadata": {},
   "outputs": [],
   "source": [
    "torch.manual_seed(42)\n",
    "device = torch.device('cuda' if torch.cuda.is_available() else 'cpu')\n",
    "batch_size = 128\n",
    "nz = 2\n",
    "K = 1\n",
    "epochs = 250"
   ]
  },
  {
   "cell_type": "code",
   "execution_count": 4,
   "metadata": {},
   "outputs": [],
   "source": [
    "class VariationalEncoder(nn.Module):\n",
    "    def __init__(self, h_dim=128, latent_dims=nz):\n",
    "        super(VariationalEncoder, self).__init__()\n",
    "        self.linear1 = nn.Linear(2, h_dim)\n",
    "        self.linear2 = nn.Linear(h_dim, h_dim)\n",
    "        self.linear3 = nn.Linear(h_dim, latent_dims)\n",
    "        self.linear4 = nn.Linear(h_dim, latent_dims)\n",
    "\n",
    "        self.N =  torch.distributions.Normal(0,1)\n",
    "        self.N.loc = self.N.loc.to(device)\n",
    "        self.N.scale = self.N.scale.to(device)\n",
    "        self.kl = 0\n",
    "\n",
    "    def forward(self, x):\n",
    "        x = F.relu(self.linear1(x))\n",
    "        x = F.relu(self.linear2(x))\n",
    "        mu = self.linear3(x)\n",
    "        log_var = torch.exp(self.linear4(x))\n",
    "        z = mu + torch.exp(0.5 * log_var) * self.N.sample(mu.shape)\n",
    "        self.kl = 0.5*(torch.exp(log_var) + mu**2 - log_var - 1).sum()\n",
    "        return z, mu, log_var"
   ]
  },
  {
   "cell_type": "code",
   "execution_count": 5,
   "metadata": {},
   "outputs": [],
   "source": [
    "class Decoder(nn.Module):\n",
    "    def __init__(self, h_dim=128, latent_dims=nz):\n",
    "        super(Decoder, self).__init__()\n",
    "        self.linear1 = nn.Linear(latent_dims, h_dim)\n",
    "        self.linear2 = nn.Linear(h_dim, 2)\n",
    "    \n",
    "    def forward(self, z):\n",
    "        z = F.relu(self.linear1(z))\n",
    "        z = self.linear2(z)\n",
    "        return z"
   ]
  },
  {
   "cell_type": "code",
   "execution_count": 6,
   "metadata": {},
   "outputs": [],
   "source": [
    "class VariationalAutoencoder(nn.Module):\n",
    "    def __init__(self, latent_dims=nz):\n",
    "        super(VariationalAutoencoder, self).__init__()\n",
    "        self.encoder = VariationalEncoder()\n",
    "        self.decoder = Decoder()\n",
    "    \n",
    "    def forward(self, x):\n",
    "        z, mu, log_var = self.encoder(x)\n",
    "        return self.decoder(z)"
   ]
  },
  {
   "cell_type": "code",
   "execution_count": 7,
   "metadata": {},
   "outputs": [],
   "source": [
    "def plot_latent_space(vae, gmm):\n",
    "    num_samples = 10000\n",
    "    colors = [\"red\", \"blue\", \"green\", \"yellow\", \"pink\"]\n",
    "    for i in range(len(gmm.components)):\n",
    "        n = int(gmm.weights[i] * num_samples)\n",
    "        x = gmm.components[i].sample(S=n)\n",
    "        plt.figure(0)\n",
    "        plt.xlim([-4, 4])\n",
    "        plt.ylim([-5, 5])\n",
    "        plt.scatter(x[:,0], x[:,1], c=colors[i])\n",
    "        plt.title(\"Original data\")\n",
    "\n",
    "        x = torch.from_numpy(x).to(device).float()\n",
    "\n",
    "        x_hat = vae(x)\n",
    "        reconstructed = x_hat.cpu().detach()\n",
    "        plt.figure(1)\n",
    "        plt.xlim([-4, 4])\n",
    "        plt.ylim([-5,5 ])\n",
    "        plt.scatter(reconstructed[:,0], reconstructed[:,1], c=colors[i])\n",
    "        plt.title(\"Reconstructed data\")\n",
    "\n",
    "        z, mu, log_var = vae.encoder(x)\n",
    "        latent_var = mu.cpu().detach()\n",
    "        plt.figure(2)\n",
    "        plt.scatter(latent_var[:,0], latent_var[:,1], c=colors[i])\n",
    "        plt.title(\"Latent Space\")\n",
    "    plt.show()"
   ]
  },
  {
   "cell_type": "code",
   "execution_count": 8,
   "metadata": {},
   "outputs": [
    {
     "name": "stdout",
     "output_type": "stream",
     "text": [
      "VariationalAutoencoder(\n",
      "  (encoder): VariationalEncoder(\n",
      "    (linear1): Linear(in_features=2, out_features=128, bias=True)\n",
      "    (linear2): Linear(in_features=128, out_features=128, bias=True)\n",
      "    (linear3): Linear(in_features=128, out_features=2, bias=True)\n",
      "    (linear4): Linear(in_features=128, out_features=2, bias=True)\n",
      "  )\n",
      "  (decoder): Decoder(\n",
      "    (linear1): Linear(in_features=2, out_features=128, bias=True)\n",
      "    (linear2): Linear(in_features=128, out_features=2, bias=True)\n",
      "  )\n",
      ")\n",
      "18054\n"
     ]
    }
   ],
   "source": [
    "vae = VariationalAutoencoder().to(device)\n",
    "optim_vae = optim.Adam(vae.parameters(), lr=0.0002, betas=(0.5, 0.999))\n",
    "\n",
    "criterion = nn.MSELoss()\n",
    "\n",
    "vae.train()\n",
    "\n",
    "vae_total_params = sum(p.numel() for p in vae.parameters())\n",
    "\n",
    "print(vae)\n",
    "print(vae_total_params)\n",
    "\n",
    "train_data = torch.from_numpy(samples).to(device).float()\n",
    "train_loader = DataLoader(train_data, batch_size=batch_size, shuffle=True)\n",
    "\n",
    "losses = []\n",
    "reconstruction_losses = []\n",
    "images = []"
   ]
  },
  {
   "cell_type": "code",
   "execution_count": 9,
   "metadata": {},
   "outputs": [
    {
     "name": "stdout",
     "output_type": "stream",
     "text": [
      "Epoch 0 of 250 : Loss =  471.68954468 , Reconstruction Loss =  1.22524345\n",
      "Epoch 1 of 250 : Loss =  384.51925659 , Reconstruction Loss =  0.82834733\n",
      "Epoch 2 of 250 : Loss =  352.91574097 , Reconstruction Loss =  0.66459316\n",
      "Epoch 3 of 250 : Loss =  344.24151611 , Reconstruction Loss =  0.62885040\n",
      "Epoch 4 of 250 : Loss =  341.31369019 , Reconstruction Loss =  0.61474913\n",
      "Epoch 5 of 250 : Loss =  340.01025391 , Reconstruction Loss =  0.61241984\n",
      "Epoch 6 of 250 : Loss =  340.57598877 , Reconstruction Loss =  0.61236554\n",
      "Epoch 7 of 250 : Loss =  341.89541626 , Reconstruction Loss =  0.61241925\n",
      "Epoch 8 of 250 : Loss =  338.35708618 , Reconstruction Loss =  0.60376847\n",
      "Epoch 9 of 250 : Loss =  338.14624023 , Reconstruction Loss =  0.60766101\n",
      "Epoch 10 of 250 : Loss =  339.48959351 , Reconstruction Loss =  0.60728490\n",
      "Epoch 11 of 250 : Loss =  338.66744995 , Reconstruction Loss =  0.60858613\n",
      "Epoch 12 of 250 : Loss =  337.91198730 , Reconstruction Loss =  0.60351282\n",
      "Epoch 13 of 250 : Loss =  337.69741821 , Reconstruction Loss =  0.60505849\n",
      "Epoch 14 of 250 : Loss =  338.11508179 , Reconstruction Loss =  0.60607207\n",
      "Epoch 15 of 250 : Loss =  337.69635010 , Reconstruction Loss =  0.60421705\n",
      "Epoch 16 of 250 : Loss =  337.65393066 , Reconstruction Loss =  0.60156226\n",
      "Epoch 17 of 250 : Loss =  338.20397949 , Reconstruction Loss =  0.60311806\n",
      "Epoch 18 of 250 : Loss =  336.21432495 , Reconstruction Loss =  0.59592402\n",
      "Epoch 19 of 250 : Loss =  337.99252319 , Reconstruction Loss =  0.60709977\n",
      "Epoch 20 of 250 : Loss =  338.15924072 , Reconstruction Loss =  0.60681039\n",
      "Epoch 21 of 250 : Loss =  338.68582153 , Reconstruction Loss =  0.60616815\n",
      "Epoch 22 of 250 : Loss =  338.84326172 , Reconstruction Loss =  0.60460287\n",
      "Epoch 23 of 250 : Loss =  337.15521240 , Reconstruction Loss =  0.60059327\n",
      "Epoch 24 of 250 : Loss =  337.29766846 , Reconstruction Loss =  0.60502386\n",
      "Epoch 25 of 250 : Loss =  337.54565430 , Reconstruction Loss =  0.60165453\n",
      "Epoch 26 of 250 : Loss =  338.08843994 , Reconstruction Loss =  0.60614175\n",
      "Epoch 27 of 250 : Loss =  336.62957764 , Reconstruction Loss =  0.59828150\n",
      "Epoch 28 of 250 : Loss =  337.19122314 , Reconstruction Loss =  0.60244256\n",
      "Epoch 29 of 250 : Loss =  337.74163818 , Reconstruction Loss =  0.60069913\n",
      "Epoch 30 of 250 : Loss =  336.46423340 , Reconstruction Loss =  0.60398203\n",
      "Epoch 31 of 250 : Loss =  339.17010498 , Reconstruction Loss =  0.60594451\n",
      "Epoch 32 of 250 : Loss =  338.13668823 , Reconstruction Loss =  0.60459423\n",
      "Epoch 33 of 250 : Loss =  335.26327515 , Reconstruction Loss =  0.60141712\n",
      "Epoch 34 of 250 : Loss =  336.57595825 , Reconstruction Loss =  0.59780204\n",
      "Epoch 35 of 250 : Loss =  336.36303711 , Reconstruction Loss =  0.59876478\n",
      "Epoch 36 of 250 : Loss =  337.57781982 , Reconstruction Loss =  0.60124469\n",
      "Epoch 37 of 250 : Loss =  337.69573975 , Reconstruction Loss =  0.60363758\n",
      "Epoch 38 of 250 : Loss =  337.99783325 , Reconstruction Loss =  0.60028344\n",
      "Epoch 39 of 250 : Loss =  335.72299194 , Reconstruction Loss =  0.59859776\n",
      "Epoch 40 of 250 : Loss =  337.85830688 , Reconstruction Loss =  0.60255671\n",
      "Epoch 41 of 250 : Loss =  334.82089233 , Reconstruction Loss =  0.59347415\n",
      "Epoch 42 of 250 : Loss =  338.71618652 , Reconstruction Loss =  0.60537666\n",
      "Epoch 43 of 250 : Loss =  336.07620239 , Reconstruction Loss =  0.60038847\n",
      "Epoch 44 of 250 : Loss =  336.79870605 , Reconstruction Loss =  0.59992272\n",
      "Epoch 45 of 250 : Loss =  335.73464966 , Reconstruction Loss =  0.59994704\n",
      "Epoch 46 of 250 : Loss =  337.10375977 , Reconstruction Loss =  0.60226595\n",
      "Epoch 47 of 250 : Loss =  336.55581665 , Reconstruction Loss =  0.60241348\n",
      "Epoch 48 of 250 : Loss =  336.95999146 , Reconstruction Loss =  0.60223913\n",
      "Epoch 49 of 250 : Loss =  336.16885376 , Reconstruction Loss =  0.59668243\n",
      "Epoch 50 of 250 : Loss =  336.12524414 , Reconstruction Loss =  0.59925389\n",
      "Epoch 51 of 250 : Loss =  337.49743652 , Reconstruction Loss =  0.59835547\n",
      "Epoch 52 of 250 : Loss =  336.21328735 , Reconstruction Loss =  0.60168463\n",
      "Epoch 53 of 250 : Loss =  337.71426392 , Reconstruction Loss =  0.59859079\n",
      "Epoch 54 of 250 : Loss =  339.61853027 , Reconstruction Loss =  0.61054879\n",
      "Epoch 55 of 250 : Loss =  335.51733398 , Reconstruction Loss =  0.59832078\n",
      "Epoch 56 of 250 : Loss =  337.05435181 , Reconstruction Loss =  0.59744620\n",
      "Epoch 57 of 250 : Loss =  338.80087280 , Reconstruction Loss =  0.60237658\n",
      "Epoch 58 of 250 : Loss =  338.20712280 , Reconstruction Loss =  0.60435045\n",
      "Epoch 59 of 250 : Loss =  337.20147705 , Reconstruction Loss =  0.60075152\n",
      "Epoch 60 of 250 : Loss =  337.80062866 , Reconstruction Loss =  0.60329753\n",
      "Epoch 61 of 250 : Loss =  338.58648682 , Reconstruction Loss =  0.60022539\n",
      "Epoch 62 of 250 : Loss =  336.80227661 , Reconstruction Loss =  0.59839159\n",
      "Epoch 63 of 250 : Loss =  336.93798828 , Reconstruction Loss =  0.59891093\n",
      "Epoch 64 of 250 : Loss =  334.09072876 , Reconstruction Loss =  0.59218609\n",
      "Epoch 65 of 250 : Loss =  336.04199219 , Reconstruction Loss =  0.59835076\n",
      "Epoch 66 of 250 : Loss =  336.70288086 , Reconstruction Loss =  0.59844846\n",
      "Epoch 67 of 250 : Loss =  334.90240479 , Reconstruction Loss =  0.59724075\n",
      "Epoch 68 of 250 : Loss =  335.46084595 , Reconstruction Loss =  0.59772134\n",
      "Epoch 69 of 250 : Loss =  336.43643188 , Reconstruction Loss =  0.60340506\n",
      "Epoch 70 of 250 : Loss =  338.73953247 , Reconstruction Loss =  0.59983343\n",
      "Epoch 71 of 250 : Loss =  337.01193237 , Reconstruction Loss =  0.59793985\n",
      "Epoch 72 of 250 : Loss =  337.13397217 , Reconstruction Loss =  0.59558874\n",
      "Epoch 73 of 250 : Loss =  337.56182861 , Reconstruction Loss =  0.59603602\n",
      "Epoch 74 of 250 : Loss =  335.83831787 , Reconstruction Loss =  0.59834605\n",
      "Epoch 75 of 250 : Loss =  335.15530396 , Reconstruction Loss =  0.58814687\n",
      "Epoch 76 of 250 : Loss =  337.63827515 , Reconstruction Loss =  0.59942400\n",
      "Epoch 77 of 250 : Loss =  337.43301392 , Reconstruction Loss =  0.59683537\n",
      "Epoch 78 of 250 : Loss =  336.80642700 , Reconstruction Loss =  0.59180987\n",
      "Epoch 79 of 250 : Loss =  336.26788330 , Reconstruction Loss =  0.59772784\n",
      "Epoch 80 of 250 : Loss =  337.70172119 , Reconstruction Loss =  0.60512465\n",
      "Epoch 81 of 250 : Loss =  334.69821167 , Reconstruction Loss =  0.59439629\n",
      "Epoch 82 of 250 : Loss =  337.74597168 , Reconstruction Loss =  0.59677333\n",
      "Epoch 83 of 250 : Loss =  336.36697388 , Reconstruction Loss =  0.60039240\n",
      "Epoch 84 of 250 : Loss =  336.47943115 , Reconstruction Loss =  0.59122247\n",
      "Epoch 85 of 250 : Loss =  334.90936279 , Reconstruction Loss =  0.59222573\n",
      "Epoch 86 of 250 : Loss =  335.57223511 , Reconstruction Loss =  0.59642935\n",
      "Epoch 87 of 250 : Loss =  337.27767944 , Reconstruction Loss =  0.60158712\n",
      "Epoch 88 of 250 : Loss =  337.21624756 , Reconstruction Loss =  0.59573972\n",
      "Epoch 89 of 250 : Loss =  336.66809082 , Reconstruction Loss =  0.59672809\n",
      "Epoch 90 of 250 : Loss =  335.95327759 , Reconstruction Loss =  0.59678280\n",
      "Epoch 91 of 250 : Loss =  333.53140259 , Reconstruction Loss =  0.58779550\n",
      "Epoch 92 of 250 : Loss =  335.52322388 , Reconstruction Loss =  0.59114629\n",
      "Epoch 93 of 250 : Loss =  337.44442749 , Reconstruction Loss =  0.59473544\n",
      "Epoch 94 of 250 : Loss =  335.79522705 , Reconstruction Loss =  0.59331197\n",
      "Epoch 95 of 250 : Loss =  334.29721069 , Reconstruction Loss =  0.58927900\n",
      "Epoch 96 of 250 : Loss =  337.13793945 , Reconstruction Loss =  0.59542644\n",
      "Epoch 97 of 250 : Loss =  333.21490479 , Reconstruction Loss =  0.58756822\n",
      "Epoch 98 of 250 : Loss =  337.13858032 , Reconstruction Loss =  0.59873664\n",
      "Epoch 99 of 250 : Loss =  336.36364746 , Reconstruction Loss =  0.59086651\n",
      "Epoch 100 of 250 : Loss =  334.84304810 , Reconstruction Loss =  0.59042078\n",
      "Epoch 101 of 250 : Loss =  334.07055664 , Reconstruction Loss =  0.59271473\n",
      "Epoch 102 of 250 : Loss =  337.10610962 , Reconstruction Loss =  0.59897870\n",
      "Epoch 103 of 250 : Loss =  335.09332275 , Reconstruction Loss =  0.58866853\n",
      "Epoch 104 of 250 : Loss =  337.51242065 , Reconstruction Loss =  0.59823799\n",
      "Epoch 105 of 250 : Loss =  337.44683838 , Reconstruction Loss =  0.59384632\n",
      "Epoch 106 of 250 : Loss =  337.47622681 , Reconstruction Loss =  0.59833950\n",
      "Epoch 107 of 250 : Loss =  333.67843628 , Reconstruction Loss =  0.58561784\n",
      "Epoch 108 of 250 : Loss =  335.98995972 , Reconstruction Loss =  0.59647691\n",
      "Epoch 109 of 250 : Loss =  337.94696045 , Reconstruction Loss =  0.59930146\n",
      "Epoch 110 of 250 : Loss =  336.23901367 , Reconstruction Loss =  0.59272039\n",
      "Epoch 111 of 250 : Loss =  334.92642212 , Reconstruction Loss =  0.59720433\n",
      "Epoch 112 of 250 : Loss =  336.32418823 , Reconstruction Loss =  0.59443551\n",
      "Epoch 113 of 250 : Loss =  335.88485718 , Reconstruction Loss =  0.59662837\n",
      "Epoch 114 of 250 : Loss =  336.62918091 , Reconstruction Loss =  0.59425038\n",
      "Epoch 115 of 250 : Loss =  335.40682983 , Reconstruction Loss =  0.59350747\n",
      "Epoch 116 of 250 : Loss =  334.81460571 , Reconstruction Loss =  0.58833408\n",
      "Epoch 117 of 250 : Loss =  334.43182373 , Reconstruction Loss =  0.59179813\n",
      "Epoch 118 of 250 : Loss =  334.85528564 , Reconstruction Loss =  0.58942729\n",
      "Epoch 119 of 250 : Loss =  334.08474731 , Reconstruction Loss =  0.58728397\n",
      "Epoch 120 of 250 : Loss =  334.93484497 , Reconstruction Loss =  0.58814442\n",
      "Epoch 121 of 250 : Loss =  335.31091309 , Reconstruction Loss =  0.58983535\n",
      "Epoch 122 of 250 : Loss =  334.32171631 , Reconstruction Loss =  0.59020877\n",
      "Epoch 123 of 250 : Loss =  335.63281250 , Reconstruction Loss =  0.59087402\n",
      "Epoch 124 of 250 : Loss =  335.23049927 , Reconstruction Loss =  0.59203035\n",
      "Epoch 125 of 250 : Loss =  335.35311890 , Reconstruction Loss =  0.59332615\n",
      "Epoch 126 of 250 : Loss =  335.24206543 , Reconstruction Loss =  0.59199822\n",
      "Epoch 127 of 250 : Loss =  333.87673950 , Reconstruction Loss =  0.58459759\n",
      "Epoch 128 of 250 : Loss =  334.87057495 , Reconstruction Loss =  0.59123385\n",
      "Epoch 129 of 250 : Loss =  335.25994873 , Reconstruction Loss =  0.58944428\n",
      "Epoch 130 of 250 : Loss =  334.51956177 , Reconstruction Loss =  0.59340054\n",
      "Epoch 131 of 250 : Loss =  333.64794922 , Reconstruction Loss =  0.58747393\n",
      "Epoch 132 of 250 : Loss =  334.08502197 , Reconstruction Loss =  0.59111547\n",
      "Epoch 133 of 250 : Loss =  334.35583496 , Reconstruction Loss =  0.58887696\n",
      "Epoch 134 of 250 : Loss =  335.39328003 , Reconstruction Loss =  0.59357876\n",
      "Epoch 135 of 250 : Loss =  332.32388306 , Reconstruction Loss =  0.58348775\n",
      "Epoch 136 of 250 : Loss =  335.99749756 , Reconstruction Loss =  0.59651023\n",
      "Epoch 137 of 250 : Loss =  335.37506104 , Reconstruction Loss =  0.59254104\n",
      "Epoch 138 of 250 : Loss =  335.67974854 , Reconstruction Loss =  0.58690107\n",
      "Epoch 139 of 250 : Loss =  333.44137573 , Reconstruction Loss =  0.58542985\n",
      "Epoch 140 of 250 : Loss =  333.09646606 , Reconstruction Loss =  0.58777213\n",
      "Epoch 141 of 250 : Loss =  332.67852783 , Reconstruction Loss =  0.58350229\n",
      "Epoch 142 of 250 : Loss =  337.09310913 , Reconstruction Loss =  0.59170043\n",
      "Epoch 143 of 250 : Loss =  333.28439331 , Reconstruction Loss =  0.58756000\n",
      "Epoch 144 of 250 : Loss =  334.79690552 , Reconstruction Loss =  0.58538836\n",
      "Epoch 145 of 250 : Loss =  336.14422607 , Reconstruction Loss =  0.59192502\n",
      "Epoch 146 of 250 : Loss =  333.74176025 , Reconstruction Loss =  0.59026653\n",
      "Epoch 147 of 250 : Loss =  335.05084229 , Reconstruction Loss =  0.59466356\n",
      "Epoch 148 of 250 : Loss =  334.61566162 , Reconstruction Loss =  0.58606803\n",
      "Epoch 149 of 250 : Loss =  332.30865479 , Reconstruction Loss =  0.58285910\n",
      "Epoch 150 of 250 : Loss =  333.34539795 , Reconstruction Loss =  0.58471406\n",
      "Epoch 151 of 250 : Loss =  333.27459717 , Reconstruction Loss =  0.58447218\n",
      "Epoch 152 of 250 : Loss =  333.65258789 , Reconstruction Loss =  0.58863980\n",
      "Epoch 153 of 250 : Loss =  334.08547974 , Reconstruction Loss =  0.58614761\n",
      "Epoch 154 of 250 : Loss =  334.17895508 , Reconstruction Loss =  0.58710486\n",
      "Epoch 155 of 250 : Loss =  333.96231079 , Reconstruction Loss =  0.58417958\n",
      "Epoch 156 of 250 : Loss =  336.09994507 , Reconstruction Loss =  0.59018236\n",
      "Epoch 157 of 250 : Loss =  333.41213989 , Reconstruction Loss =  0.58574742\n",
      "Epoch 158 of 250 : Loss =  335.06137085 , Reconstruction Loss =  0.58571190\n",
      "Epoch 159 of 250 : Loss =  333.53259277 , Reconstruction Loss =  0.59049344\n",
      "Epoch 160 of 250 : Loss =  333.93307495 , Reconstruction Loss =  0.59179676\n",
      "Epoch 161 of 250 : Loss =  333.81924438 , Reconstruction Loss =  0.58906567\n",
      "Epoch 162 of 250 : Loss =  334.59783936 , Reconstruction Loss =  0.58896023\n",
      "Epoch 163 of 250 : Loss =  337.87728882 , Reconstruction Loss =  0.59750575\n",
      "Epoch 164 of 250 : Loss =  332.04611206 , Reconstruction Loss =  0.58691287\n",
      "Epoch 165 of 250 : Loss =  333.01962280 , Reconstruction Loss =  0.58876652\n",
      "Epoch 166 of 250 : Loss =  334.37701416 , Reconstruction Loss =  0.58695567\n",
      "Epoch 167 of 250 : Loss =  332.69110107 , Reconstruction Loss =  0.58454305\n",
      "Epoch 168 of 250 : Loss =  336.04803467 , Reconstruction Loss =  0.59189600\n",
      "Epoch 169 of 250 : Loss =  334.14547729 , Reconstruction Loss =  0.58571339\n",
      "Epoch 170 of 250 : Loss =  333.78518677 , Reconstruction Loss =  0.58798152\n",
      "Epoch 171 of 250 : Loss =  333.51715088 , Reconstruction Loss =  0.58628815\n",
      "Epoch 172 of 250 : Loss =  331.65216064 , Reconstruction Loss =  0.58587521\n",
      "Epoch 173 of 250 : Loss =  333.32281494 , Reconstruction Loss =  0.58829790\n",
      "Epoch 174 of 250 : Loss =  334.48907471 , Reconstruction Loss =  0.59002978\n",
      "Epoch 175 of 250 : Loss =  335.33367920 , Reconstruction Loss =  0.58935213\n",
      "Epoch 176 of 250 : Loss =  334.46212769 , Reconstruction Loss =  0.58759379\n",
      "Epoch 177 of 250 : Loss =  334.11138916 , Reconstruction Loss =  0.58766252\n",
      "Epoch 178 of 250 : Loss =  333.59042358 , Reconstruction Loss =  0.58709139\n",
      "Epoch 179 of 250 : Loss =  332.88504028 , Reconstruction Loss =  0.59114927\n",
      "Epoch 180 of 250 : Loss =  333.28048706 , Reconstruction Loss =  0.58895087\n",
      "Epoch 181 of 250 : Loss =  333.53686523 , Reconstruction Loss =  0.58475584\n",
      "Epoch 182 of 250 : Loss =  334.26159668 , Reconstruction Loss =  0.58532280\n",
      "Epoch 183 of 250 : Loss =  334.13522339 , Reconstruction Loss =  0.58637649\n",
      "Epoch 184 of 250 : Loss =  335.22982788 , Reconstruction Loss =  0.59178001\n",
      "Epoch 185 of 250 : Loss =  338.58065796 , Reconstruction Loss =  0.59810251\n",
      "Epoch 186 of 250 : Loss =  334.37649536 , Reconstruction Loss =  0.59039778\n",
      "Epoch 187 of 250 : Loss =  334.57870483 , Reconstruction Loss =  0.58626562\n",
      "Epoch 188 of 250 : Loss =  334.35073853 , Reconstruction Loss =  0.58398181\n",
      "Epoch 189 of 250 : Loss =  333.97683716 , Reconstruction Loss =  0.58615106\n",
      "Epoch 190 of 250 : Loss =  334.44006348 , Reconstruction Loss =  0.59010011\n",
      "Epoch 191 of 250 : Loss =  332.60821533 , Reconstruction Loss =  0.58498526\n",
      "Epoch 192 of 250 : Loss =  333.94921875 , Reconstruction Loss =  0.58416641\n",
      "Epoch 193 of 250 : Loss =  334.41473389 , Reconstruction Loss =  0.59154201\n",
      "Epoch 194 of 250 : Loss =  336.16601562 , Reconstruction Loss =  0.59757769\n",
      "Epoch 195 of 250 : Loss =  334.57611084 , Reconstruction Loss =  0.58952504\n",
      "Epoch 196 of 250 : Loss =  332.74209595 , Reconstruction Loss =  0.58852750\n",
      "Epoch 197 of 250 : Loss =  334.40280151 , Reconstruction Loss =  0.58789802\n",
      "Epoch 198 of 250 : Loss =  332.83789062 , Reconstruction Loss =  0.58746952\n",
      "Epoch 199 of 250 : Loss =  333.83746338 , Reconstruction Loss =  0.59041953\n",
      "Epoch 200 of 250 : Loss =  333.15200806 , Reconstruction Loss =  0.58575487\n",
      "Epoch 201 of 250 : Loss =  333.28277588 , Reconstruction Loss =  0.58282661\n",
      "Epoch 202 of 250 : Loss =  333.03164673 , Reconstruction Loss =  0.58141261\n",
      "Epoch 203 of 250 : Loss =  331.98098755 , Reconstruction Loss =  0.58092678\n",
      "Epoch 204 of 250 : Loss =  334.39712524 , Reconstruction Loss =  0.58902270\n",
      "Epoch 205 of 250 : Loss =  334.70193481 , Reconstruction Loss =  0.58907717\n",
      "Epoch 206 of 250 : Loss =  332.61614990 , Reconstruction Loss =  0.58951557\n",
      "Epoch 207 of 250 : Loss =  331.86627197 , Reconstruction Loss =  0.58146572\n",
      "Epoch 208 of 250 : Loss =  333.46731567 , Reconstruction Loss =  0.58714330\n",
      "Epoch 209 of 250 : Loss =  337.22659302 , Reconstruction Loss =  0.59380502\n",
      "Epoch 210 of 250 : Loss =  334.31445312 , Reconstruction Loss =  0.58736843\n",
      "Epoch 211 of 250 : Loss =  333.35327148 , Reconstruction Loss =  0.58288187\n",
      "Epoch 212 of 250 : Loss =  334.90734863 , Reconstruction Loss =  0.59360933\n",
      "Epoch 213 of 250 : Loss =  335.39880371 , Reconstruction Loss =  0.59209621\n",
      "Epoch 214 of 250 : Loss =  333.63284302 , Reconstruction Loss =  0.59072417\n",
      "Epoch 215 of 250 : Loss =  337.26687622 , Reconstruction Loss =  0.59531659\n",
      "Epoch 216 of 250 : Loss =  333.73553467 , Reconstruction Loss =  0.59080023\n",
      "Epoch 217 of 250 : Loss =  333.97500610 , Reconstruction Loss =  0.58813953\n",
      "Epoch 218 of 250 : Loss =  334.39010620 , Reconstruction Loss =  0.58523738\n",
      "Epoch 219 of 250 : Loss =  333.16757202 , Reconstruction Loss =  0.58493912\n",
      "Epoch 220 of 250 : Loss =  333.52890015 , Reconstruction Loss =  0.58796430\n",
      "Epoch 221 of 250 : Loss =  334.89947510 , Reconstruction Loss =  0.58503544\n",
      "Epoch 222 of 250 : Loss =  333.26489258 , Reconstruction Loss =  0.58568335\n",
      "Epoch 223 of 250 : Loss =  334.35162354 , Reconstruction Loss =  0.59079820\n",
      "Epoch 224 of 250 : Loss =  333.78308105 , Reconstruction Loss =  0.58571225\n",
      "Epoch 225 of 250 : Loss =  335.38006592 , Reconstruction Loss =  0.59110129\n",
      "Epoch 226 of 250 : Loss =  334.45529175 , Reconstruction Loss =  0.58998197\n",
      "Epoch 227 of 250 : Loss =  331.98785400 , Reconstruction Loss =  0.57892352\n",
      "Epoch 228 of 250 : Loss =  336.78890991 , Reconstruction Loss =  0.59820282\n",
      "Epoch 229 of 250 : Loss =  335.86688232 , Reconstruction Loss =  0.58942533\n",
      "Epoch 230 of 250 : Loss =  335.44003296 , Reconstruction Loss =  0.59140283\n",
      "Epoch 231 of 250 : Loss =  334.55068970 , Reconstruction Loss =  0.58987582\n",
      "Epoch 232 of 250 : Loss =  334.31643677 , Reconstruction Loss =  0.58977050\n",
      "Epoch 233 of 250 : Loss =  334.78735352 , Reconstruction Loss =  0.59000939\n",
      "Epoch 234 of 250 : Loss =  334.31417847 , Reconstruction Loss =  0.58516717\n",
      "Epoch 235 of 250 : Loss =  330.71875000 , Reconstruction Loss =  0.58250141\n",
      "Epoch 236 of 250 : Loss =  334.22549438 , Reconstruction Loss =  0.58729774\n",
      "Epoch 237 of 250 : Loss =  334.81387329 , Reconstruction Loss =  0.58648872\n",
      "Epoch 238 of 250 : Loss =  332.03424072 , Reconstruction Loss =  0.58111453\n",
      "Epoch 239 of 250 : Loss =  333.26834106 , Reconstruction Loss =  0.58284235\n",
      "Epoch 240 of 250 : Loss =  332.21688843 , Reconstruction Loss =  0.58658612\n",
      "Epoch 241 of 250 : Loss =  335.68222046 , Reconstruction Loss =  0.58753234\n",
      "Epoch 242 of 250 : Loss =  334.51031494 , Reconstruction Loss =  0.58836251\n",
      "Epoch 243 of 250 : Loss =  334.31805420 , Reconstruction Loss =  0.58562207\n",
      "Epoch 244 of 250 : Loss =  333.75558472 , Reconstruction Loss =  0.58638811\n",
      "Epoch 245 of 250 : Loss =  333.37188721 , Reconstruction Loss =  0.58117396\n",
      "Epoch 246 of 250 : Loss =  334.99728394 , Reconstruction Loss =  0.59093577\n",
      "Epoch 247 of 250 : Loss =  334.29232788 , Reconstruction Loss =  0.58978152\n",
      "Epoch 248 of 250 : Loss =  332.53829956 , Reconstruction Loss =  0.58785379\n",
      "Epoch 249 of 250 : Loss =  334.36273193 , Reconstruction Loss =  0.58465719\n"
     ]
    }
   ],
   "source": [
    "for epoch in range(epochs):\n",
    "    loss_r = 0\n",
    "    loss_total = 0\n",
    "    for idx, data in enumerate(train_loader):\n",
    "        x = data.to(device)\n",
    "        optim_vae.zero_grad()\n",
    "        x_hat = vae(x)\n",
    "        loss = ((x - x_hat)**2).sum() + vae.encoder.kl\n",
    "        # loss = criterion(x, x_hat)\n",
    "        loss.backward()\n",
    "        optim_vae.step()\n",
    "        loss_r += criterion(x, x_hat)\n",
    "        loss_total += loss\n",
    "    reconstruction_losses.append(loss_r/idx)\n",
    "    losses.append(loss_total/idx)\n",
    "    x_hat = vae(train_data)\n",
    "    images.append(x_hat.cpu().detach())\n",
    "    print(f\"Epoch {epoch} of {epochs} : Loss = {losses[-1] : .8f} , Reconstruction Loss = {reconstruction_losses[-1] : .8f}\")"
   ]
  },
  {
   "cell_type": "code",
   "execution_count": 10,
   "metadata": {},
   "outputs": [
    {
     "data": {
      "text/plain": [
       "torch.Size([100000, 2])"
      ]
     },
     "execution_count": 10,
     "metadata": {},
     "output_type": "execute_result"
    }
   ],
   "source": [
    "x_hat = vae(train_data)\n",
    "x_hat.shape"
   ]
  },
  {
   "cell_type": "code",
   "execution_count": 11,
   "metadata": {},
   "outputs": [
    {
     "data": {
      "image/png": "[encoded data removed]",
      "text/plain": [
       "<Figure size 432x288 with 1 Axes>"
      ]
     },
     "metadata": {
      "needs_background": "light"
     },
     "output_type": "display_data"
    }
   ],
   "source": [
    "plt.plot(losses)\n",
    "plt.plot(reconstruction_losses)\n",
    "plt.show()"
   ]
  },
  {
   "cell_type": "code",
   "execution_count": 15,
   "metadata": {},
   "outputs": [
    {
     "data": {
      "text/plain": [
       "<matplotlib.collections.PathCollection at 0x7f10a008b668>"
      ]
     },
     "execution_count": 15,
     "metadata": {},
     "output_type": "execute_result"
    },
    {
     "data": {
      "image/png": "[encoded data removed]",
      "text/plain": [
       "<Figure size 432x288 with 1 Axes>"
      ]
     },
     "metadata": {
      "needs_background": "light"
     },
     "output_type": "display_data"
    }
   ],
   "source": [
    "# given.plot_samples_2d(x_hat.cpu().detach())\n",
    "fig = plt.figure()\n",
    "ax = plt.axes(xlim=(-6,6), ylim=(-6,6))\n",
    "plt.title(\"Reconstructed Data\")\n",
    "plt.scatter(samples[:,0], samples[:,1], c='blue')\n",
    "plt.scatter(images[-1][:,0], images[-1][:,1], c='orange')"
   ]
  },
  {
   "cell_type": "code",
   "execution_count": 14,
   "metadata": {},
   "outputs": [
    {
     "data": {
      "image/png": "[encoded data removed]",
      "text/plain": [
       "<Figure size 432x288 with 1 Axes>"
      ]
     },
     "metadata": {
      "needs_background": "light"
     },
     "output_type": "display_data"
    },
    {
     "data": {
      "image/png": "[encoded data removed]",
      "text/plain": [
       "<Figure size 432x288 with 1 Axes>"
      ]
     },
     "metadata": {
      "needs_background": "light"
     },
     "output_type": "display_data"
    },
    {
     "data": {
      "image/png": "[encoded data removed]",
      "text/plain": [
       "<Figure size 432x288 with 1 Axes>"
      ]
     },
     "metadata": {
      "needs_background": "light"
     },
     "output_type": "display_data"
    }
   ],
   "source": [
    "plot_latent_space(vae, ptarget)"
   ]
  },
  {
   "cell_type": "code",
   "execution_count": 14,
   "metadata": {},
   "outputs": [],
   "source": [
    "for i in range(len(images)):\n",
    "    fig = plt.figure()\n",
    "    ax = plt.axes(xlim=(-10,10), ylim=(-10,10))\n",
    "    plt.scatter(samples[:,0], samples[:,1], c='blue')\n",
    "    plt.scatter(images[i][:,0], images[i][:,1], c='orange')\n",
    "    plt.title(\"Epoch \" + str(i))\n",
    "    plt.savefig('vae_training/epoch_' + str(i) + '.png')\n",
    "    plt.close()\n"
   ]
  }
 ],
 "metadata": {
  "interpreter": {
   "hash": "31f2aee4e71d21fbe5cf8b01ff0e069b9275f58929596ceb00d14d90e3e16cd6"
  },
  "kernelspec": {
   "display_name": "Python 3.6.9 64-bit",
   "language": "python",
   "name": "python3"
  },
  "language_info": {
   "codemirror_mode": {
    "name": "ipython",
    "version": 3
   },
   "file_extension": ".py",
   "mimetype": "text/x-python",
   "name": "python",
   "nbconvert_exporter": "python",
   "pygments_lexer": "ipython3",
   "version": "3.6.9"
  },
  "orig_nbformat": 4
 },
 "nbformat": 4,
 "nbformat_minor": 2
}
