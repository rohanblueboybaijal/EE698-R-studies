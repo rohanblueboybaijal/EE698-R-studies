{
  "cells": [
    {
      "cell_type": "markdown",
      "id": "described-israel",
      "metadata": {
        "id": "described-israel"
      },
      "source": [
        "## Instructions:\n",
        "- You can use NN libraries such as tensorflow, pytorch, etc. But implement NF and importance sampling on your own.\n",
        "- Zero tolerance for plagiarism. Do not copy from Practice and Share; the student who submitted there originally only can use; Github tracks who pushed what code.\n",
        "- Total marks: 50 + 5 (bonus)\n",
        "- Marks will be for plots and explanations. Describe your experiments, observations, challenges-faced, hyper-parameter tuning, etc., in the explanations."
      ]
    },
    {
      "cell_type": "code",
      "execution_count": 242,
      "id": "spoken-raleigh",
      "metadata": {
        "id": "spoken-raleigh"
      },
      "outputs": [],
      "source": [
        "import CodingQuiz1lib as given\n",
        "import numpy as np\n",
        "np.random.seed(5)\n",
        "import matplotlib.pyplot as plt"
      ]
    },
    {
      "cell_type": "markdown",
      "source": [
        "# NOTE:\n",
        "Tensorflow makes use of auto-differentiation to allow for easy back-proagation. For that, it is important all the relevant parameters are Tensors and all the operations should be tf operations.  \n",
        "\n",
        "In this experiment, we make use of tensorflow_probability to create the same distributions.  \n",
        "\n",
        "For the ```Gaussian``` we simply make use of ```tfp.distributions.MultivariateNormalDiag``` with the exact same parameters used for ```given.Gaussian```.  \n",
        "\n",
        "Similarly for the ```GMM``` we have used :    \n",
        "```tfd.MixtureSameFamily(  mixture_distribution=tfd.Categorical(probs=pi),  components_distribution=tfd.MultivariateNormalTriL(loc=mu,scale_tril=scale))```\n",
        "\n",
        "We first run ```given.GMM()``` and use its parameters for the GMM constructed using Tensorflow.  \n",
        "\n",
        "### Why is this needed? \n",
        "In the KL divergence loss, we have a term $log(p_u(T^{-1}(x; \\phi))$. This consists of the trainable parameter $\\phi$ and hence we need $p_u$ to have operations in terms of tf operations in order to be able to use auto-differentation. However, in the library given, we have these functions in terms of numpy operations.  \n",
        "\n",
        "Similarly in the reverse KL divergence loss, we have $log(p_x^*(T(u; \\phi)))$ and so we need a form of $p_x^*$ in terms of tf operations.  \n",
        "\n",
        "The issue is not only in terms of converting numpy to tf or vice-versa. We can make the Coding Library compatible by data type-casting but as soon as we convert a tf tensor to numpy, we lose all the gradient information. And tf decorator functions won't help us here because the data type being passed into the Coding library is a numpy array and numpy arrays don't have the functionality to store gradient information.  \n",
        "\n",
        "Also, even if we use the library as it is, there will be some kind of training since the determinant term still has some gradient information, but this gradient information  by itself is not the full information.  \n",
        "\n",
        "\n",
        "In my humble opinion, using the tensorflow probability distributions doesn't take away the main learning purpose of this assignment since we need to implement Normalizing Flows and run experiements to understand those models better.  \n",
        " It is my very sincere request to you to please consider this submission which has proper experiments to run Normalizing Flow and understand the models.\n"
      ],
      "metadata": {
        "id": "VseqrG0Ro2D7"
      },
      "id": "VseqrG0Ro2D7"
    },
    {
      "cell_type": "code",
      "source": [
        "import tensorflow as tf\n",
        "from tensorflow import keras\n",
        "from tensorflow.keras import layers\n",
        "from tensorflow.keras import optimizers\n",
        "import tensorflow_probability as tfp\n",
        "tfd = tfp.distributions "
      ],
      "metadata": {
        "id": "WgVvjZxTF2CV"
      },
      "id": "WgVvjZxTF2CV",
      "execution_count": 243,
      "outputs": []
    },
    {
      "cell_type": "markdown",
      "id": "future-multimedia",
      "metadata": {
        "id": "future-multimedia"
      },
      "source": [
        "# Q1: Model a 2D GMM using NF\n",
        "- Prepare the target probability distribution $p_x^*$ as a GMM with 5 components\n",
        "```\n",
        "    ptarget = given.GMM()  \n",
        "    samples = ptarget.sample(5) # to obtain 5 samples\n",
        "    given.plot_samples_2d(samples, filename='target')   # plot the samples in file\n",
        "    ptarget.prob(samples)       # to obtain probability values of samples\n",
        "```\n",
        "- Prepare the source distribution $p_u$ as a Gaussian with zero mean and unit variance. Use `given.Gaussian`.\n",
        "\n",
        "## a.\n",
        "- Given only the samples from the target distribution, train an NF $x=T(u)$ to model that distribution. Use any flow of your choice.\n",
        "- Evaluation:\n",
        "    - Generate samples from the model and plot them using `given.plot_samples_2d()`. Also plot samples from target distribution for comparison. Write your obervations in the markdown block below the plots. [10 marks]\n",
        "    - Generate samples from the given target distribution and estimate their probabilities using the model as well as `ptarget.prob()`. Plot a histogram of the absolute difference in the two probability values. Write your obervations in the markdown block below the plots. [10 marks]\n",
        "\n",
        "## b.\n",
        "- Given only the function `ptarget.prob()` from the target distribution, train an NF to model that distribution.\n",
        "- Evaluation:\n",
        "    - Generate samples from the model and plot them using `given.plot_samples_2d()`. Also plot samples from target distribution for comparison. Write your obervations in the markdown block below the plots. [10 marks]\n",
        "    - Generate samples from the given target distribution and estimate their probabilities using the model as well as `ptarget.prob()`. Plot a histogram of the absolute difference in the two probability values. Write your obervations in the markdown block below the plots. [10 marks]\n",
        "\n",
        "## c. (BONUS)\n",
        "- Draw plots that may help understand your models better. Write your obervations in the markdown block below the plots. [5 marks]"
      ]
    },
    {
      "cell_type": "markdown",
      "id": "hawaiian-friday",
      "metadata": {
        "id": "hawaiian-friday"
      },
      "source": [
        "## YOUR CODE:"
      ]
    },
    {
      "cell_type": "markdown",
      "source": [
        "I have made use of the RNVP flows provided by Prof. Arora in the github examples. In addition, I have implemented Planar Flows myself.  \n",
        "\n",
        "I decided to make use of this quiz an exercise to see some differences in the performance of RNVP Flows and Planar Flows"
      ],
      "metadata": {
        "id": "BKus4vNEJFp_"
      },
      "id": "BKus4vNEJFp_"
    },
    {
      "cell_type": "code",
      "source": [
        "# CREATING THE TARGET DISTRIBUTION ACCORDING TO LIBRARY\n",
        "ptarget = given.GMM()\n",
        "samples = ptarget.sample(100000) # to obtain samples\n",
        "given.plot_samples_2d(samples, filename='target') # plot the samples in file\n",
        "ptarget.prob(samples)       # to obtain probability values of samples"
      ],
      "metadata": {
        "colab": {
          "base_uri": "https://localhost:8080/",
          "height": 389
        },
        "id": "QMA2r6qxFhBe",
        "outputId": "5c4ccd7d-5dbf-432f-aba7-cf01c700305b"
      },
      "id": "QMA2r6qxFhBe",
      "execution_count": 244,
      "outputs": [
        {
          "output_type": "stream",
          "name": "stdout",
          "text": [
            "[0.01404067 0.11816142 0.40426436 0.45028626 0.01324729]\n",
            "[ 1465 11818 40808 44541  1368]\n"
          ]
        },
        {
          "output_type": "execute_result",
          "data": {
            "text/plain": [
              "array([0.04007126, 0.01870453, 0.01300226, ..., 0.03913935, 0.01340359,\n",
              "       0.01348515])"
            ]
          },
          "metadata": {},
          "execution_count": 244
        },
        {
          "output_type": "display_data",
          "data": {
            "image/png": "[encoded data removed]",
            "text/plain": [
              "<Figure size 360x360 with 1 Axes>"
            ]
          },
          "metadata": {
            "needs_background": "light"
          }
        }
      ]
    },
    {
      "cell_type": "code",
      "source": [
        "# Creating the same GMM using tensorflow distributions\n",
        "pi = ptarget.weights\n",
        "mu = []\n",
        "cov = []\n",
        "for i in range(len(pi)):\n",
        "    mu.append(ptarget.components[i].mu)\n",
        "    cov.append(ptarget.components[i].sigma)\n",
        "scale = tf.linalg.cholesky(cov)"
      ],
      "metadata": {
        "id": "pRVPmVhuGEtx"
      },
      "id": "pRVPmVhuGEtx",
      "execution_count": 245,
      "outputs": []
    },
    {
      "cell_type": "code",
      "source": [
        "mvgmm = tfd.MixtureSameFamily(\n",
        "    mixture_distribution=tfd.Categorical(probs=pi),\n",
        "    components_distribution=tfd.MultivariateNormalTriL(loc=mu,scale_tril=scale))"
      ],
      "metadata": {
        "id": "NOuxj0-mRZHT"
      },
      "id": "NOuxj0-mRZHT",
      "execution_count": 246,
      "outputs": []
    },
    {
      "cell_type": "code",
      "source": [
        "given.plot_samples_2d(mvgmm.sample(100000))"
      ],
      "metadata": {
        "colab": {
          "base_uri": "https://localhost:8080/",
          "height": 320
        },
        "id": "SlbZswcoRjvq",
        "outputId": "be074136-f667-498f-e8fb-3c3fb4b11dc4"
      },
      "id": "SlbZswcoRjvq",
      "execution_count": 247,
      "outputs": [
        {
          "output_type": "display_data",
          "data": {
            "image/png": "[encoded data removed]",
            "text/plain": [
              "<Figure size 360x360 with 1 Axes>"
            ]
          },
          "metadata": {
            "needs_background": "light"
          }
        }
      ]
    },
    {
      "cell_type": "code",
      "source": [
        "# Creating the base distribution\n",
        "p_u = given.Gaussian(mu=[0,0], sigma=np.eye(2))\n",
        "given.plot_samples_2d(p_u.sample(1000))"
      ],
      "metadata": {
        "colab": {
          "base_uri": "https://localhost:8080/",
          "height": 322
        },
        "id": "OBOuQiRARuii",
        "outputId": "266c8d3c-954e-43b7-974e-8529841bf094"
      },
      "id": "OBOuQiRARuii",
      "execution_count": 248,
      "outputs": [
        {
          "output_type": "display_data",
          "data": {
            "image/png": "[encoded data removed]",
            "text/plain": [
              "<Figure size 360x360 with 1 Axes>"
            ]
          },
          "metadata": {
            "needs_background": "light"
          }
        }
      ]
    },
    {
      "cell_type": "code",
      "source": [
        "base_dist = tfp.distributions.MultivariateNormalDiag(loc=tf.zeros([2]), scale_diag=[1.0, 1.0])\n",
        "given.plot_samples_2d(base_dist.sample(1000))"
      ],
      "metadata": {
        "colab": {
          "base_uri": "https://localhost:8080/",
          "height": 320
        },
        "id": "ac_wiIE9YoEB",
        "outputId": "decec733-1332-45c4-e4e8-5728b39b6468"
      },
      "id": "ac_wiIE9YoEB",
      "execution_count": 249,
      "outputs": [
        {
          "output_type": "display_data",
          "data": {
            "image/png": "[encoded data removed]",
            "text/plain": [
              "<Figure size 360x360 with 1 Axes>"
            ]
          },
          "metadata": {
            "needs_background": "light"
          }
        }
      ]
    },
    {
      "cell_type": "code",
      "execution_count": 250,
      "id": "olympic-singles",
      "metadata": {
        "id": "olympic-singles"
      },
      "outputs": [],
      "source": [
        "##### Q1 a. #####"
      ]
    },
    {
      "cell_type": "markdown",
      "source": [
        "# Q1. a"
      ],
      "metadata": {
        "id": "MdH1n_gwtNqX"
      },
      "id": "MdH1n_gwtNqX"
    },
    {
      "cell_type": "markdown",
      "source": [
        "## RNVP Flow "
      ],
      "metadata": {
        "id": "j_ZGb0Z-ZFOG"
      },
      "id": "j_ZGb0Z-ZFOG"
    },
    {
      "cell_type": "code",
      "source": [
        "class NN(layers.Layer):\n",
        "    \"\"\"\n",
        "    Neural Network Architecture for calcualting s and t for Real-NVP\n",
        "    \n",
        "    :param input_shape: shape of the data coming in the layer\n",
        "    :param hidden_units: Python list-like of non-negative integers, specifying the number of units in each hidden layer.\n",
        "    :param activation: Activation of the hidden units\n",
        "    \"\"\"\n",
        "    def __init__(self, input_shape, n_hidden=[64,64], activation=\"relu\"):\n",
        "        super(NN, self).__init__(name=\"nn\")\n",
        "        layer_list = []\n",
        "        for n in n_hidden:\n",
        "            layer_list.append(layers.Dense(n, activation=activation))\n",
        "        self.layer_list = layer_list\n",
        "        self.log_s_layer = layers.Dense(input_shape, activation=\"tanh\", name='log_s')\n",
        "        self.t_layer = layers.Dense(input_shape, name='t')\n",
        "\n",
        "    def call(self, x):\n",
        "        y = x\n",
        "        for layer in self.layer_list:\n",
        "            y = layer(y)\n",
        "        log_s = self.log_s_layer(y)\n",
        "        t = self.t_layer(y)\n",
        "        return log_s, t\n",
        "    \n",
        "\n",
        "class RealNVP:\n",
        "    \"\"\"\n",
        "    Implementation of a Real-NVP for Density Estimation. L. Dinh “Density estimation using Real NVP,” 2016.\n",
        "    This implementation only works for 1D arrays.\n",
        "    :param input_shape: shape of the data coming in the layer\n",
        "    :param hidden_units: Python list-like of non-negative integers, specifying the number of units in each hidden layer.\n",
        "    \"\"\"\n",
        "\n",
        "    def __init__(self, input_shape, flip):\n",
        "        assert input_shape % 2 == 0\n",
        "        input_shape = input_shape // 2\n",
        "        nn = NN(input_shape)\n",
        "        x = keras.Input(input_shape)\n",
        "        log_s, t = nn(x)\n",
        "        self.nn = keras.Model(x, [log_s, t], name=\"nn\")\n",
        "        self.flip = flip\n",
        "        #print(self.nn.summary())\n",
        "        \n",
        "    def _forward(self, u):\n",
        "        u1, u2 = tf.split(u, 2, axis=-1)\n",
        "\n",
        "        if self.flip == True:\n",
        "          u1, u2 = u2, u1\n",
        "\n",
        "        x1 = u1\n",
        "        log_s, mu = self.nn(u1)\n",
        "        x2 = u2 * tf.exp(log_s) + mu \n",
        "\n",
        "        if self.flip == True:\n",
        "          x1, x2 = x2, x1\n",
        "        \n",
        "        x = tf.concat([x1, x2], axis=-1)\n",
        "        return x, log_s\n",
        "\n",
        "    def _inverse(self, x):\n",
        "        x1, x2 = tf.split(x, 2, axis=-1)\n",
        "\n",
        "        if self.flip == True:\n",
        "          x1, x2 = x2, x1\n",
        "        \n",
        "        u1 = x1\n",
        "        log_s, mu = self.nn(x1)\n",
        "        u2 = (x2 - mu)/tf.exp(log_s)\n",
        "\n",
        "        if self.flip == True:\n",
        "          u1, u2 = u2, u1\n",
        "        \n",
        "        u = tf.concat([u1, u2], axis=-1)\n",
        "        return u, log_s\n",
        "\n",
        "\n",
        "class NormalizingFlowRNVP:\n",
        "\n",
        "    def __init__(self, D, n_flows):\n",
        "        flip = False\n",
        "        self.n_flows = n_flows\n",
        "        self.rnvp_chain = []\n",
        "        for i in range(n_flows):\n",
        "            self.rnvp_chain.append(RealNVP(2, flip))\n",
        "            flip = not flip\n",
        "    \n",
        "    def complete_inverse(self, x):\n",
        "        u = x\n",
        "        log_det_jacob_inv_transf = 0\n",
        "        for i in range(self.n_flows-1,-1,-1):\n",
        "            u, log_s = self.rnvp_chain[i]._inverse(u)\n",
        "            log_det_jacob_inv_transf = log_det_jacob_inv_transf - log_s\n",
        "        return u, log_det_jacob_inv_transf\n",
        "\n",
        "    def complete_forward(self, u):\n",
        "        x = u\n",
        "        log_det_jacob_forward_transf = 0\n",
        "        for i in range(self.n_flows):\n",
        "            x, log_s = self.rnvp_chain[i]._forward(x)\n",
        "            log_det_jacob_forward_transf = log_det_jacob_forward_transf + log_s\n",
        "        return x, log_det_jacob_forward_transf"
      ],
      "metadata": {
        "id": "tS_w16fMZJWF"
      },
      "id": "tS_w16fMZJWF",
      "execution_count": 251,
      "outputs": []
    },
    {
      "cell_type": "markdown",
      "source": [
        "Given samples from $p_x^*(x)$, estimate the density using RNVP flows."
      ],
      "metadata": {
        "id": "1FbnZA4-9L8T"
      },
      "id": "1FbnZA4-9L8T"
    },
    {
      "cell_type": "code",
      "source": [
        "nf_rnvp = NormalizingFlowRNVP(2, 4)"
      ],
      "metadata": {
        "id": "IVzfMkgvb5Jn"
      },
      "id": "IVzfMkgvb5Jn",
      "execution_count": 252,
      "outputs": []
    },
    {
      "cell_type": "code",
      "source": [
        "# Training function for rnvp Normalizing Flow\n",
        "@tf.function\n",
        "def train_density_estimation(data_batch, model, base_dist, optimizer):\n",
        "    \"\"\"\n",
        "    data batch : samples from p*\n",
        "    model : the rnvp flow model \n",
        "    base_dist : the gaussian base distribution\n",
        "    optimizer : the optimier from tensorflow\n",
        "    \"\"\"\n",
        "    with tf.GradientTape() as tape:\n",
        "      # forward KL divergence loss\n",
        "      u, log_det_jacob_inv_transf = model.complete_inverse(data_batch)\n",
        "      loss = -tf.reduce_mean(base_dist.log_prob(u) + log_det_jacob_inv_transf)\n",
        "        \n",
        "    gradients = tape.gradient(loss, tape.watched_variables())\n",
        "    optimizer.apply_gradients(zip(gradients, tape.watched_variables()))\n",
        "    return loss"
      ],
      "metadata": {
        "id": "2tYE0-B8cHhn"
      },
      "id": "2tYE0-B8cHhn",
      "execution_count": 253,
      "outputs": []
    },
    {
      "cell_type": "code",
      "source": [
        "# Training the RNVP NF model\n",
        "dataset_size = 100000\n",
        "data = tf.cast(samples, dtype=tf.float32)\n",
        "epochs = 20\n",
        "optimizer = optimizers.Adam(learning_rate = 0.0001)\n",
        "batch_size = 128\n",
        "batches_per_epoch = dataset_size//batch_size+1\n",
        "for i in range(epochs):\n",
        "  for j in range(batches_per_epoch):\n",
        "    data_batch = data[batch_size*j:batch_size*(j+1)]\n",
        "    last_loss = train_density_estimation(data_batch, nf_rnvp, base_dist, optimizer)\n",
        "  print(last_loss)"
      ],
      "metadata": {
        "colab": {
          "base_uri": "https://localhost:8080/"
        },
        "id": "BoA52gLucqPT",
        "outputId": "d869f1c0-db2f-4c90-badd-1b10f51db294"
      },
      "id": "BoA52gLucqPT",
      "execution_count": 254,
      "outputs": [
        {
          "output_type": "stream",
          "name": "stdout",
          "text": [
            "tf.Tensor(6.9202, shape=(), dtype=float32)\n",
            "tf.Tensor(6.102603, shape=(), dtype=float32)\n",
            "tf.Tensor(5.3030653, shape=(), dtype=float32)\n",
            "tf.Tensor(5.1927433, shape=(), dtype=float32)\n",
            "tf.Tensor(4.9812603, shape=(), dtype=float32)\n",
            "tf.Tensor(4.866889, shape=(), dtype=float32)\n",
            "tf.Tensor(5.341541, shape=(), dtype=float32)\n",
            "tf.Tensor(5.2549543, shape=(), dtype=float32)\n",
            "tf.Tensor(5.3746624, shape=(), dtype=float32)\n",
            "tf.Tensor(4.939892, shape=(), dtype=float32)\n",
            "tf.Tensor(4.7428975, shape=(), dtype=float32)\n",
            "tf.Tensor(4.839369, shape=(), dtype=float32)\n",
            "tf.Tensor(4.2833138, shape=(), dtype=float32)\n",
            "tf.Tensor(4.4248047, shape=(), dtype=float32)\n",
            "tf.Tensor(4.0900807, shape=(), dtype=float32)\n",
            "tf.Tensor(4.3740854, shape=(), dtype=float32)\n",
            "tf.Tensor(3.9502132, shape=(), dtype=float32)\n",
            "tf.Tensor(4.1738005, shape=(), dtype=float32)\n",
            "tf.Tensor(3.818047, shape=(), dtype=float32)\n",
            "tf.Tensor(4.069116, shape=(), dtype=float32)\n"
          ]
        }
      ]
    },
    {
      "cell_type": "code",
      "source": [
        "# Converting samples from base distribution to target distribution using Flows\n",
        "test_samples_u = base_dist.sample(10000)\n",
        "test_samples_x, _ = nf_rnvp.complete_forward(test_samples_u)\n",
        "given.plot_samples_2d(test_samples_x)"
      ],
      "metadata": {
        "colab": {
          "base_uri": "https://localhost:8080/",
          "height": 320
        },
        "id": "t43WQHvkfmu6",
        "outputId": "b06358f0-e29e-457a-cfb7-3bdfb4d6de40"
      },
      "id": "t43WQHvkfmu6",
      "execution_count": 255,
      "outputs": [
        {
          "output_type": "display_data",
          "data": {
            "image/png": "[encoded data removed]",
            "text/plain": [
              "<Figure size 360x360 with 1 Axes>"
            ]
          },
          "metadata": {
            "needs_background": "light"
          }
        }
      ]
    },
    {
      "cell_type": "code",
      "source": [
        "# Generating target samples and calculatuing their probability using p*\n",
        "target_samples = ptarget.sample(10000)\n",
        "p_star_x = ptarget.prob(target_samples)"
      ],
      "metadata": {
        "colab": {
          "base_uri": "https://localhost:8080/"
        },
        "id": "eDEk0vhAhMbo",
        "outputId": "1280d947-1edf-44ef-d18e-2fc9234efaa9"
      },
      "id": "eDEk0vhAhMbo",
      "execution_count": 256,
      "outputs": [
        {
          "output_type": "stream",
          "name": "stdout",
          "text": [
            "[0.01404067 0.11816142 0.40426436 0.45028626 0.01324729]\n",
            "[ 149 1191 4110 4409  141]\n"
          ]
        }
      ]
    },
    {
      "cell_type": "code",
      "source": [
        "# Running the inverse model to find u and then compute the probability of x using NF model\n",
        "u, log_det_jacob_inv_transf = nf_rnvp.complete_inverse(tf.cast(target_samples, dtype=tf.float32))\n",
        "u = u.numpy()\n",
        "log_det_jacob_inv_transf = log_det_jacob_inv_transf.numpy()"
      ],
      "metadata": {
        "id": "GgZYVp1-iKD3"
      },
      "id": "GgZYVp1-iKD3",
      "execution_count": 257,
      "outputs": []
    },
    {
      "cell_type": "code",
      "source": [
        "p_x = (p_u.prob(u).reshape(-1,1) * np.exp(log_det_jacob_inv_transf)).reshape(-1)"
      ],
      "metadata": {
        "id": "_sIdoYWNkLCU"
      },
      "id": "_sIdoYWNkLCU",
      "execution_count": 258,
      "outputs": []
    },
    {
      "cell_type": "code",
      "source": [
        "plt.hist(np.abs(p_star_x - p_x), density=False, bins=50)\n",
        "plt.show()"
      ],
      "metadata": {
        "colab": {
          "base_uri": "https://localhost:8080/",
          "height": 265
        },
        "id": "evajAsTekhrH",
        "outputId": "65655d7c-a354-4b41-f480-e97f71c15c84"
      },
      "id": "evajAsTekhrH",
      "execution_count": 259,
      "outputs": [
        {
          "output_type": "display_data",
          "data": {
            "image/png": "[encoded data removed]",
            "text/plain": [
              "<Figure size 432x288 with 1 Axes>"
            ]
          },
          "metadata": {
            "needs_background": "light"
          }
        }
      ]
    },
    {
      "cell_type": "markdown",
      "source": [
        "## Planar Flow"
      ],
      "metadata": {
        "id": "OYN-0VfXreXO"
      },
      "id": "OYN-0VfXreXO"
    },
    {
      "cell_type": "code",
      "source": [
        "class PlanarFlow(tf.Module):\n",
        "    def __init__(self, D):\n",
        "        super(PlanarFlow, self).__init__()\n",
        "        self.c = tf.Variable(np.random.uniform(-1., 1., size=(int(D))), name='c', dtype=tf.float32, trainable=True)\n",
        "        self.w = tf.Variable(np.random.uniform(-1., 1., size=(int(D))), name='w', dtype=tf.float32, trainable=True)\n",
        "        self.b = tf.Variable(np.random.uniform(-1., 1., size=(1)), name='b', dtype=tf.float32, trainable=True)\n",
        "    \n",
        "    def h(self, x):\n",
        "        return tf.math.tanh(x)\n",
        "    \n",
        "    def h_prime(self, x):\n",
        "        return 1.0 - self.h(x)**2\n",
        "    \n",
        "    def _log_det_jacobian(self, u):\n",
        "        val1 = tf.tensordot(u, self.w, 1) + self.b\n",
        "        val2 = tf.tensordot(self.h_prime(val1), self.w, 0)\n",
        "        det = tf.math.abs(1.0 + tf.tensordot(val2, self.c, 1))\n",
        "        return tf.math.log(det)\n",
        "    \n",
        "    def _forward(self, u):\n",
        "        val1 = self.h(tf.tensordot(u, self.w, 1) + self.b)\n",
        "        log_det_jacob = self._log_det_jacobian(u)\n",
        "        return u + tf.tensordot(val1, self.c, 0), log_det_jacob"
      ],
      "metadata": {
        "id": "36DCXuPbdb_t"
      },
      "id": "36DCXuPbdb_t",
      "execution_count": 260,
      "outputs": []
    },
    {
      "cell_type": "code",
      "source": [
        "class NormalizingFlowPlanar(tf.Module):\n",
        "    def __init__(self, D=2, n_flows=4):\n",
        "        super(NormalizingFlowPlanar, self).__init__()\n",
        "        self.n_flows = n_flows\n",
        "        self.planar_flow_chain = []\n",
        "        for _ in range(self.n_flows):\n",
        "            self.planar_flow_chain.append(PlanarFlow(D))\n",
        "        \n",
        "    def complete_forward(self, u):\n",
        "        x = u\n",
        "        log_det_jacob_forward_transf = 0\n",
        "        for i in range(self.n_flows):\n",
        "            x, log_s = self.planar_flow_chain[i]._forward(x)\n",
        "            log_det_jacob_forward_transf = log_det_jacob_forward_transf + log_s\n",
        "        return x, log_det_jacob_forward_transf"
      ],
      "metadata": {
        "id": "1fZ7I9MTnbVB"
      },
      "id": "1fZ7I9MTnbVB",
      "execution_count": 261,
      "outputs": []
    },
    {
      "cell_type": "markdown",
      "source": [
        "Given samples from $p_x^*(x)$, estimate the density using Planar flows."
      ],
      "metadata": {
        "id": "KVzxD5aSQu3d"
      },
      "id": "KVzxD5aSQu3d"
    },
    {
      "cell_type": "code",
      "source": [
        "nf_planar = NormalizingFlowPlanar()"
      ],
      "metadata": {
        "id": "mlbGUQwMhT0k"
      },
      "id": "mlbGUQwMhT0k",
      "execution_count": 262,
      "outputs": []
    },
    {
      "cell_type": "markdown",
      "source": [
        "We don't know the inverse of Planar Flow in closed form. So, instead of learning the transformation $T$, we learn the transformation $T^{-1}$ and apply the forward function of Planar Flow as it is\n"
      ],
      "metadata": {
        "id": "ecQWcjVMs0WA"
      },
      "id": "ecQWcjVMs0WA"
    },
    {
      "cell_type": "code",
      "source": [
        "@tf.function\n",
        "def train_density_estimation_from_sampling(data_batch, model, base_dist, optimizer): #batch):\n",
        "    \"\"\"\n",
        "    data batch : samples from p*\n",
        "    model : the planar flow model \n",
        "    base_dist : the gaussian base distribution\n",
        "    optimizer : the optimier from tensorflow\n",
        "    \"\"\"\n",
        "    with tf.GradientTape() as tape:\n",
        "      u, log_det_jacob = model.complete_forward(data_batch)\n",
        "      loss = -tf.reduce_mean(base_dist.log_prob(u) + log_det_jacob)\n",
        "        \n",
        "    gradients = tape.gradient(loss, tape.watched_variables())\n",
        "    optimizer.apply_gradients(zip(gradients, tape.watched_variables()))\n",
        "    return loss"
      ],
      "metadata": {
        "id": "Sy5PqPO7roEG"
      },
      "id": "Sy5PqPO7roEG",
      "execution_count": 263,
      "outputs": []
    },
    {
      "cell_type": "code",
      "source": [
        "# Training the Planar Flow NF model\n",
        "dataset_size = 100000\n",
        "data = tf.cast(samples, dtype=tf.float32)\n",
        "epochs = 20\n",
        "optimizer = optimizers.Adam(learning_rate = 0.0001)\n",
        "batch_size = 128\n",
        "batches_per_epoch = dataset_size//batch_size+1\n",
        "for i in range(epochs):\n",
        "  for j in range(batches_per_epoch):\n",
        "    data_batch = data[batch_size*j:batch_size*(j+1)]\n",
        "    last_loss = train_density_estimation_from_sampling(data_batch, nf_planar, base_dist, optimizer)\n",
        "  print(last_loss)"
      ],
      "metadata": {
        "colab": {
          "base_uri": "https://localhost:8080/"
        },
        "id": "ItluAc7BuYgu",
        "outputId": "0b586609-57c4-445a-96fa-4232b4970fe4"
      },
      "id": "ItluAc7BuYgu",
      "execution_count": 264,
      "outputs": [
        {
          "output_type": "stream",
          "name": "stdout",
          "text": [
            "tf.Tensor(16.57469, shape=(), dtype=float32)\n",
            "tf.Tensor(15.10486, shape=(), dtype=float32)\n",
            "tf.Tensor(13.6305065, shape=(), dtype=float32)\n",
            "tf.Tensor(12.203562, shape=(), dtype=float32)\n",
            "tf.Tensor(10.866595, shape=(), dtype=float32)\n",
            "tf.Tensor(9.665249, shape=(), dtype=float32)\n",
            "tf.Tensor(8.63443, shape=(), dtype=float32)\n",
            "tf.Tensor(7.7513843, shape=(), dtype=float32)\n",
            "tf.Tensor(6.978417, shape=(), dtype=float32)\n",
            "tf.Tensor(6.300851, shape=(), dtype=float32)\n",
            "tf.Tensor(5.718343, shape=(), dtype=float32)\n",
            "tf.Tensor(5.228004, shape=(), dtype=float32)\n",
            "tf.Tensor(4.820284, shape=(), dtype=float32)\n",
            "tf.Tensor(4.4835763, shape=(), dtype=float32)\n",
            "tf.Tensor(4.206855, shape=(), dtype=float32)\n",
            "tf.Tensor(3.9803104, shape=(), dtype=float32)\n",
            "tf.Tensor(3.795411, shape=(), dtype=float32)\n",
            "tf.Tensor(3.6447797, shape=(), dtype=float32)\n",
            "tf.Tensor(3.522073, shape=(), dtype=float32)\n",
            "tf.Tensor(3.4218454, shape=(), dtype=float32)\n"
          ]
        }
      ]
    },
    {
      "cell_type": "code",
      "source": [
        "# test_samples_u = base_dist.sample(10000)\n",
        "# test_samples_x, _ = nf_planar.complete_forward(test_samples_u)\n",
        "# given.plot_samples_2d(test_samples_x)"
      ],
      "metadata": {
        "id": "uh5VML9iu3gA"
      },
      "id": "uh5VML9iu3gA",
      "execution_count": 265,
      "outputs": []
    },
    {
      "cell_type": "markdown",
      "source": [
        "NOTE : Since we are learning the transformation $T^{-1}$, it is not possible to generate samples from $p_x^*$ given samples from $p_u$."
      ],
      "metadata": {
        "id": "NXqHmBGD-DyZ"
      },
      "id": "NXqHmBGD-DyZ"
    },
    {
      "cell_type": "code",
      "source": [
        "# Generating samples from p* and calculating the probability \n",
        "target_samples = ptarget.sample(10000)\n",
        "p_star_x = ptarget.prob(target_samples)"
      ],
      "metadata": {
        "colab": {
          "base_uri": "https://localhost:8080/"
        },
        "id": "VMzuwDHQvWQd",
        "outputId": "7594653f-b796-492a-8290-2311697da667"
      },
      "id": "VMzuwDHQvWQd",
      "execution_count": 266,
      "outputs": [
        {
          "output_type": "stream",
          "name": "stdout",
          "text": [
            "[0.01404067 0.11816142 0.40426436 0.45028626 0.01324729]\n",
            "[ 133 1222 4046 4446  153]\n"
          ]
        }
      ]
    },
    {
      "cell_type": "code",
      "source": [
        "# Running the inverse model to find u and then compute the probability of x using NF model\n",
        "u, log_det_jacob_inv_transf = nf_rnvp.complete_forward(tf.cast(target_samples, dtype=tf.float32))\n",
        "u = u.numpy()\n",
        "log_det_jacob_inv_transf = log_det_jacob_inv_transf.numpy()"
      ],
      "metadata": {
        "id": "f5kjYUrOvE48"
      },
      "id": "f5kjYUrOvE48",
      "execution_count": 267,
      "outputs": []
    },
    {
      "cell_type": "code",
      "source": [
        "p_x = (p_u.prob(u).reshape(-1,1) * np.exp(log_det_jacob_inv_transf)).reshape(-1)"
      ],
      "metadata": {
        "id": "K7YeS2HBvM1i"
      },
      "id": "K7YeS2HBvM1i",
      "execution_count": 268,
      "outputs": []
    },
    {
      "cell_type": "code",
      "source": [
        "plt.hist(np.abs(p_star_x - p_x), density=False, bins=50)\n",
        "plt.show()"
      ],
      "metadata": {
        "colab": {
          "base_uri": "https://localhost:8080/",
          "height": 265
        },
        "id": "Hi93ph_yvbKF",
        "outputId": "37ba8735-1ead-4680-d7ab-4f563c215465"
      },
      "id": "Hi93ph_yvbKF",
      "execution_count": 269,
      "outputs": [
        {
          "output_type": "display_data",
          "data": {
            "image/png": "[encoded data removed]",
            "text/plain": [
              "<Figure size 432x288 with 1 Axes>"
            ]
          },
          "metadata": {
            "needs_background": "light"
          }
        }
      ]
    },
    {
      "cell_type": "code",
      "execution_count": 270,
      "id": "sustained-terror",
      "metadata": {
        "id": "sustained-terror"
      },
      "outputs": [],
      "source": [
        "##### Q1 b. #####"
      ]
    },
    {
      "cell_type": "markdown",
      "source": [
        "# Q1 b."
      ],
      "metadata": {
        "id": "3Dq1j_8Ftzm1"
      },
      "id": "3Dq1j_8Ftzm1"
    },
    {
      "cell_type": "markdown",
      "source": [
        "Given the function $p_x^*(x)$, generate samples from $p_u$ and use the function to estimate the target density. We use the Reverse KL Divergence loss in this case."
      ],
      "metadata": {
        "id": "Ov0gCmwM_BDE"
      },
      "id": "Ov0gCmwM_BDE"
    },
    {
      "cell_type": "code",
      "source": [
        "nf_rnvp_2 = NormalizingFlowRNVP(2, 4)"
      ],
      "metadata": {
        "id": "hvJ-cgBxtU_0"
      },
      "id": "hvJ-cgBxtU_0",
      "execution_count": 271,
      "outputs": []
    },
    {
      "cell_type": "code",
      "source": [
        "@tf.function\n",
        "def train_density_estimation_reverse_kl(u_samples, model, p_star, optimizer):\n",
        "    \"\"\"\n",
        "    u_samples : samples from base distribution\n",
        "    model : the rnvp flow model \n",
        "    p_star : the target distribution function\n",
        "    optimizer : the optimier from tensorflow\n",
        "    \"\"\"\n",
        "    with tf.GradientTape() as tape:\n",
        "        x, log_det_jacob_forward_transf = model.complete_forward(u_samples)\n",
        "        x = tf.cast(x, tf.float64)\n",
        "        log_det_jacob_forward_transf = tf.cast(log_det_jacob_forward_transf, tf.float64)\n",
        "        print(x)\n",
        "        print(log_det_jacob_forward_transf)\n",
        "        loss = -tf.reduce_mean(log_det_jacob_forward_transf + p_star.log_prob(x))\n",
        "    \n",
        "    gradients = tape.gradient(loss, tape.watched_variables())\n",
        "    optimizer.apply_gradients(zip(gradients, tape.watched_variables()))\n",
        "    return loss"
      ],
      "metadata": {
        "id": "FHcWNCsfvk0Q"
      },
      "id": "FHcWNCsfvk0Q",
      "execution_count": 272,
      "outputs": []
    },
    {
      "cell_type": "code",
      "source": [
        "# Training the RNVP NF model\n",
        "dataset_size = 100000\n",
        "epochs = 20\n",
        "optimizer = optimizers.Adam(learning_rate = 0.0001)\n",
        "batch_size = 128\n",
        "batches_per_epoch = dataset_size//batch_size+1\n",
        "for i in range(epochs):\n",
        "  for j in range(batches_per_epoch):\n",
        "    data_batch = base_dist.sample(batch_size, dtype=tf.float64)\n",
        "    last_loss = train_density_estimation_reverse_kl(data_batch, nf_rnvp_2, mvgmm, optimizer)\n",
        "  print(last_loss)"
      ],
      "metadata": {
        "colab": {
          "base_uri": "https://localhost:8080/"
        },
        "id": "3ExeimjfxZm7",
        "outputId": "d9b024d2-e040-419b-e294-3652ee868875"
      },
      "id": "3ExeimjfxZm7",
      "execution_count": 273,
      "outputs": [
        {
          "output_type": "stream",
          "name": "stdout",
          "text": [
            "Tensor(\"Cast:0\", shape=(128, 2), dtype=float64)\n",
            "Tensor(\"Cast_1:0\", shape=(128, 1), dtype=float64)\n",
            "Tensor(\"Cast:0\", shape=(128, 2), dtype=float64)\n",
            "Tensor(\"Cast_1:0\", shape=(128, 1), dtype=float64)\n",
            "tf.Tensor(4.04966683305903, shape=(), dtype=float64)\n",
            "tf.Tensor(3.7042193572690447, shape=(), dtype=float64)\n",
            "tf.Tensor(3.5141954382799128, shape=(), dtype=float64)\n",
            "tf.Tensor(3.7491943843180566, shape=(), dtype=float64)\n",
            "tf.Tensor(3.5922184307440905, shape=(), dtype=float64)\n",
            "tf.Tensor(3.661804998742886, shape=(), dtype=float64)\n",
            "tf.Tensor(3.5455243900163382, shape=(), dtype=float64)\n",
            "tf.Tensor(3.603178404744992, shape=(), dtype=float64)\n",
            "tf.Tensor(3.6228186204565835, shape=(), dtype=float64)\n",
            "tf.Tensor(3.7241983400700964, shape=(), dtype=float64)\n",
            "tf.Tensor(3.62769443279055, shape=(), dtype=float64)\n",
            "tf.Tensor(3.8047974025479716, shape=(), dtype=float64)\n",
            "tf.Tensor(3.637031006898596, shape=(), dtype=float64)\n",
            "tf.Tensor(3.676392280339071, shape=(), dtype=float64)\n",
            "tf.Tensor(3.5764398797067063, shape=(), dtype=float64)\n",
            "tf.Tensor(3.6095835457525256, shape=(), dtype=float64)\n",
            "tf.Tensor(3.7262421957664715, shape=(), dtype=float64)\n",
            "tf.Tensor(3.5702194178794775, shape=(), dtype=float64)\n",
            "tf.Tensor(3.508595204067942, shape=(), dtype=float64)\n",
            "tf.Tensor(3.630528545916632, shape=(), dtype=float64)\n"
          ]
        }
      ]
    },
    {
      "cell_type": "code",
      "source": [
        "# Generate samples from base distribution and run the forward transformation to get x\n",
        "test_samples_u = base_dist.sample(10000)\n",
        "test_samples_x, log_det_jacob_forward_transf = nf_rnvp_2.complete_forward(test_samples_u)\n",
        "given.plot_samples_2d(test_samples_x)"
      ],
      "metadata": {
        "colab": {
          "base_uri": "https://localhost:8080/",
          "height": 320
        },
        "id": "aHH__N3ISNVu",
        "outputId": "214ea538-b206-42c2-946e-a1714fabd080"
      },
      "id": "aHH__N3ISNVu",
      "execution_count": 274,
      "outputs": [
        {
          "output_type": "display_data",
          "data": {
            "image/png": "[encoded data removed]",
            "text/plain": [
              "<Figure size 360x360 with 1 Axes>"
            ]
          },
          "metadata": {
            "needs_background": "light"
          }
        }
      ]
    },
    {
      "cell_type": "code",
      "source": [
        "# Compute p_x from model\n",
        "# pu = p_u.prob(test_samples_u.numpy())\n",
        "# log_det_jacob_forward_transf = log_det_jacob_forward_transf.numpy()"
      ],
      "metadata": {
        "id": "nCjsLolqUTra"
      },
      "id": "nCjsLolqUTra",
      "execution_count": 275,
      "outputs": []
    },
    {
      "cell_type": "code",
      "source": [
        "# p_x = p_u.prob(test_samples_u.numpy()) * np.exp(-log_det_jacob_forward_transf).reshape(-1)"
      ],
      "metadata": {
        "id": "Cfng6RmWUh0D"
      },
      "id": "Cfng6RmWUh0D",
      "execution_count": 276,
      "outputs": []
    },
    {
      "cell_type": "code",
      "source": [
        "# p_star_x = ptarget.prob(test_samples_x.numpy())"
      ],
      "metadata": {
        "id": "wo4lW_a0XZle"
      },
      "id": "wo4lW_a0XZle",
      "execution_count": 277,
      "outputs": []
    },
    {
      "cell_type": "code",
      "source": [
        "# plt.hist(np.abs(p_star_x - p_x), density=True, bins=50)\n",
        "# plt.show()"
      ],
      "metadata": {
        "id": "weegz9ZSXqbG"
      },
      "id": "weegz9ZSXqbG",
      "execution_count": 278,
      "outputs": []
    },
    {
      "cell_type": "code",
      "source": [
        "# Generate samples from ptarget ans then compare the p_x from the model\n",
        "target_samples = ptarget.sample(10000)\n",
        "p_star_x = ptarget.prob(target_samples)"
      ],
      "metadata": {
        "colab": {
          "base_uri": "https://localhost:8080/"
        },
        "id": "N2dmAnB-aEN4",
        "outputId": "c4dee61b-f3c1-4aff-c8a2-dbb0f88ffd6c"
      },
      "id": "N2dmAnB-aEN4",
      "execution_count": 279,
      "outputs": [
        {
          "output_type": "stream",
          "name": "stdout",
          "text": [
            "[0.01404067 0.11816142 0.40426436 0.45028626 0.01324729]\n",
            "[ 149 1181 3972 4576  122]\n"
          ]
        }
      ]
    },
    {
      "cell_type": "code",
      "source": [
        "u, log_det_jacob_inv_transf = nf_rnvp_2.complete_inverse(tf.cast(target_samples, dtype=tf.float32))\n",
        "u = u.numpy()\n",
        "log_det_jacob_inv_transf = log_det_jacob_inv_transf.numpy()"
      ],
      "metadata": {
        "id": "YJjMc508aIoC"
      },
      "id": "YJjMc508aIoC",
      "execution_count": 280,
      "outputs": []
    },
    {
      "cell_type": "code",
      "source": [
        "p_x = (p_u.prob(u).reshape(-1,1) * np.exp(log_det_jacob_inv_transf)).reshape(-1)"
      ],
      "metadata": {
        "id": "zKFCmt5EaOzb"
      },
      "id": "zKFCmt5EaOzb",
      "execution_count": 281,
      "outputs": []
    },
    {
      "cell_type": "code",
      "source": [
        "plt.hist(np.abs(p_star_x - p_x), density=False, bins=50)\n",
        "plt.show()"
      ],
      "metadata": {
        "colab": {
          "base_uri": "https://localhost:8080/",
          "height": 265
        },
        "id": "i-I2zXUtaRu4",
        "outputId": "ce358656-5906-4d68-8b18-2f0ac9ebdbd1"
      },
      "id": "i-I2zXUtaRu4",
      "execution_count": 282,
      "outputs": [
        {
          "output_type": "display_data",
          "data": {
            "image/png": "[encoded data removed]",
            "text/plain": [
              "<Figure size 432x288 with 1 Axes>"
            ]
          },
          "metadata": {
            "needs_background": "light"
          }
        }
      ]
    },
    {
      "cell_type": "markdown",
      "source": [
        "Density Estimation using Planar Flows."
      ],
      "metadata": {
        "id": "6PB0MwPaAf_M"
      },
      "id": "6PB0MwPaAf_M"
    },
    {
      "cell_type": "code",
      "source": [
        "nf_planar_2 = NormalizingFlowPlanar()"
      ],
      "metadata": {
        "id": "nuddwAHLAdVD"
      },
      "id": "nuddwAHLAdVD",
      "execution_count": 283,
      "outputs": []
    },
    {
      "cell_type": "code",
      "source": [
        "@tf.function\n",
        "def train_planar_flow_reverse_kl(u_samples, model, p_star, optimizer):\n",
        "    \"\"\"\n",
        "    u_samples : samples from base distribution\n",
        "    model : the planar flow model \n",
        "    p_star : the target distribution function\n",
        "    optimizer : the optimier from tensorflow\n",
        "    \"\"\"\n",
        "    with tf.GradientTape() as tape:\n",
        "        x, log_det_jacob_forward_transf = model.complete_forward(u_samples)\n",
        "        x = tf.cast(x, tf.float64)\n",
        "        log_det_jacob_forward_transf = tf.cast(log_det_jacob_forward_transf, tf.float64)\n",
        "        loss = -tf.reduce_mean(log_det_jacob_forward_transf + p_star.log_prob(x))\n",
        "    \n",
        "    gradients = tape.gradient(loss, tape.watched_variables())\n",
        "    optimizer.apply_gradients(zip(gradients, tape.watched_variables()))\n",
        "    return loss"
      ],
      "metadata": {
        "id": "0ut6p68ZDuX_"
      },
      "id": "0ut6p68ZDuX_",
      "execution_count": 284,
      "outputs": []
    },
    {
      "cell_type": "code",
      "source": [
        "# Training the Planar Flow NF model\n",
        "dataset_size = 100000\n",
        "epochs = 20\n",
        "optimizer = optimizers.Adam(learning_rate = 0.0001)\n",
        "batch_size = 128\n",
        "batches_per_epoch = dataset_size//batch_size+1\n",
        "for i in range(epochs):\n",
        "  for j in range(batches_per_epoch):\n",
        "    data_batch = base_dist.sample(batch_size, dtype=tf.float64)\n",
        "    last_loss = train_planar_flow_reverse_kl(data_batch, nf_planar_2, mvgmm, optimizer)\n",
        "  print(last_loss)"
      ],
      "metadata": {
        "colab": {
          "base_uri": "https://localhost:8080/"
        },
        "id": "dWZtxsyYEgKZ",
        "outputId": "1125e744-2d0b-48e0-920e-b05e474a89e9"
      },
      "id": "dWZtxsyYEgKZ",
      "execution_count": 285,
      "outputs": [
        {
          "output_type": "stream",
          "name": "stdout",
          "text": [
            "tf.Tensor(27.625206454624745, shape=(), dtype=float64)\n",
            "tf.Tensor(26.082496897233618, shape=(), dtype=float64)\n",
            "tf.Tensor(24.691721479365903, shape=(), dtype=float64)\n",
            "tf.Tensor(21.53741729643057, shape=(), dtype=float64)\n",
            "tf.Tensor(20.875508642910013, shape=(), dtype=float64)\n",
            "tf.Tensor(16.05664866385931, shape=(), dtype=float64)\n",
            "tf.Tensor(14.58422585323775, shape=(), dtype=float64)\n",
            "tf.Tensor(12.854908563158652, shape=(), dtype=float64)\n",
            "tf.Tensor(13.198015133488298, shape=(), dtype=float64)\n",
            "tf.Tensor(13.036557975249943, shape=(), dtype=float64)\n",
            "tf.Tensor(8.797544468174488, shape=(), dtype=float64)\n",
            "tf.Tensor(9.648411924454912, shape=(), dtype=float64)\n",
            "tf.Tensor(8.62040271469095, shape=(), dtype=float64)\n",
            "tf.Tensor(8.435150780291387, shape=(), dtype=float64)\n",
            "tf.Tensor(7.63516671407941, shape=(), dtype=float64)\n",
            "tf.Tensor(7.260125581103604, shape=(), dtype=float64)\n",
            "tf.Tensor(6.127231898419901, shape=(), dtype=float64)\n",
            "tf.Tensor(6.3862314419411135, shape=(), dtype=float64)\n",
            "tf.Tensor(6.535120146719434, shape=(), dtype=float64)\n",
            "tf.Tensor(6.218644105208771, shape=(), dtype=float64)\n"
          ]
        }
      ]
    },
    {
      "cell_type": "code",
      "source": [
        "# Generating p* samples from the base distribution\n",
        "test_samples_u = base_dist.sample(10000)\n",
        "test_samples_x, log_det_jacob_forward_transf = nf_planar_2.complete_forward(test_samples_u)\n",
        "given.plot_samples_2d(test_samples_x)"
      ],
      "metadata": {
        "colab": {
          "base_uri": "https://localhost:8080/",
          "height": 320
        },
        "id": "18sJF2tkFmYi",
        "outputId": "e429244e-069e-4730-bf29-7b7465c20d44"
      },
      "id": "18sJF2tkFmYi",
      "execution_count": 286,
      "outputs": [
        {
          "output_type": "display_data",
          "data": {
            "image/png": "[encoded data removed]",
            "text/plain": [
              "<Figure size 360x360 with 1 Axes>"
            ]
          },
          "metadata": {
            "needs_background": "light"
          }
        }
      ]
    },
    {
      "cell_type": "markdown",
      "source": [
        "NOTE: In this Planar Flow model, we can't compute $T^{-1}$. So, for the historgrams, instead of generating samples from ```ptarget```, we are going to use $x = T(u)$ samples and compare with $p_x^*(x)$\n",
        "\n"
      ],
      "metadata": {
        "id": "i7H4VibIcPEq"
      },
      "id": "i7H4VibIcPEq"
    },
    {
      "cell_type": "code",
      "source": [
        "pu = p_u.prob(test_samples_u.numpy())\n",
        "log_det_jacob_forward_transf = log_det_jacob_forward_transf.numpy()"
      ],
      "metadata": {
        "id": "g5gufbwoFsyP"
      },
      "id": "g5gufbwoFsyP",
      "execution_count": 287,
      "outputs": []
    },
    {
      "cell_type": "code",
      "source": [
        "p_x = p_u.prob(test_samples_u.numpy()) * np.exp(-log_det_jacob_forward_transf).reshape(-1)"
      ],
      "metadata": {
        "id": "3LuVlztmF8vX"
      },
      "id": "3LuVlztmF8vX",
      "execution_count": 288,
      "outputs": []
    },
    {
      "cell_type": "code",
      "source": [
        "p_star_x = ptarget.prob(test_samples_x.numpy())"
      ],
      "metadata": {
        "id": "6s7iEuJ8GLWB"
      },
      "id": "6s7iEuJ8GLWB",
      "execution_count": 289,
      "outputs": []
    },
    {
      "cell_type": "code",
      "source": [
        "plt.hist(np.abs(p_star_x - p_x), density=True, bins=50)\n",
        "plt.show()"
      ],
      "metadata": {
        "colab": {
          "base_uri": "https://localhost:8080/",
          "height": 265
        },
        "id": "7WQ8jfxeGSbY",
        "outputId": "28f7ca02-ca2b-4d5a-acac-4ea1216669f6"
      },
      "id": "7WQ8jfxeGSbY",
      "execution_count": 308,
      "outputs": [
        {
          "output_type": "display_data",
          "data": {
            "image/png": "[encoded data removed]",
            "text/plain": [
              "<Figure size 432x288 with 1 Axes>"
            ]
          },
          "metadata": {
            "needs_background": "light"
          }
        }
      ]
    },
    {
      "cell_type": "markdown",
      "source": [
        "## Q1 c."
      ],
      "metadata": {
        "id": "YicyXLbEZGrg"
      },
      "id": "YicyXLbEZGrg"
    },
    {
      "cell_type": "code",
      "execution_count": 291,
      "id": "behind-mineral",
      "metadata": {
        "id": "behind-mineral"
      },
      "outputs": [],
      "source": [
        "##### Q1 c. #####\n",
        "N = 10000 \n",
        "x_samples = []\n",
        "for i in range(5):\n",
        "    num = int(ptarget.weights[i] * N)\n",
        "    x_samples.append(ptarget.components[i].sample(num))"
      ]
    },
    {
      "cell_type": "code",
      "source": [
        "colors = ['b', 'r', 'y', 'g', 'c']\n",
        "for i in range(5):\n",
        "    plt.scatter(x_samples[i][:,0], x_samples[i][:,1], c=colors[i])\n",
        "plt.show()"
      ],
      "metadata": {
        "colab": {
          "base_uri": "https://localhost:8080/",
          "height": 265
        },
        "id": "EquUDqfB6Hm4",
        "outputId": "ec825c34-35f3-46c0-80e8-46697c5d1687"
      },
      "id": "EquUDqfB6Hm4",
      "execution_count": 292,
      "outputs": [
        {
          "output_type": "display_data",
          "data": {
            "image/png": "[encoded data removed]",
            "text/plain": [
              "<Figure size 432x288 with 1 Axes>"
            ]
          },
          "metadata": {
            "needs_background": "light"
          }
        }
      ]
    },
    {
      "cell_type": "code",
      "source": [
        "u_samples = []\n",
        "for i in range(5):\n",
        "    u, _= nf_rnvp.complete_inverse(tf.cast(x_samples[i], tf.float32))\n",
        "    u_samples.append(u.numpy())"
      ],
      "metadata": {
        "id": "ETNuaRif6or8"
      },
      "id": "ETNuaRif6or8",
      "execution_count": 293,
      "outputs": []
    },
    {
      "cell_type": "code",
      "source": [
        "colors = ['b', 'r', 'y', 'g', 'c']\n",
        "for i in range(5):\n",
        "    plt.scatter(u_samples[i][:,0], u_samples[i][:,1], c=colors[i])\n",
        "plt.show()"
      ],
      "metadata": {
        "colab": {
          "base_uri": "https://localhost:8080/",
          "height": 265
        },
        "id": "mnPivV9U7dXU",
        "outputId": "bf954d3a-6a5f-429e-c862-fc5674c693d3"
      },
      "id": "mnPivV9U7dXU",
      "execution_count": 294,
      "outputs": [
        {
          "output_type": "display_data",
          "data": {
            "image/png": "[encoded data removed]",
            "text/plain": [
              "<Figure size 432x288 with 1 Axes>"
            ]
          },
          "metadata": {
            "needs_background": "light"
          }
        }
      ]
    },
    {
      "cell_type": "code",
      "source": [
        "def most_probable_component(x, p_star):\n",
        "    p_i = []\n",
        "    for i in range(len(p_star.weights)):\n",
        "        p_i.append(p_star.components[i].prob(x))\n",
        "    return p_i.index(max(p_i))"
      ],
      "metadata": {
        "id": "DthWB-207u9m"
      },
      "id": "DthWB-207u9m",
      "execution_count": 295,
      "outputs": []
    },
    {
      "cell_type": "code",
      "source": [
        "test_samples_u = base_dist.sample(1000)\n",
        "test_samples_x, _ = nf_rnvp.complete_forward(test_samples_u)\n",
        "\n",
        "# for i in range(5):\n",
        "#     plt.scatter(x_samples[i][:,0], x_samples[i][:,1], c=colors[i])\n",
        "\n",
        "test_samples_u = test_samples_u.numpy()\n",
        "test_samples_x = test_samples_x.numpy().astype(np.float64)\n",
        "\n",
        "for i in range(len(test_samples_u)):\n",
        "    # print(test_samples_x[i].dtype)\n",
        "    component = most_probable_component(test_samples_x[i].reshape(1,-1), ptarget)\n",
        "    plt.scatter(test_samples_u[i][0], test_samples_u[i][1], c=colors[component], marker=\"x\")\n",
        "\n",
        "plt.show()"
      ],
      "metadata": {
        "colab": {
          "base_uri": "https://localhost:8080/",
          "height": 265
        },
        "id": "BbuThuOY-N5C",
        "outputId": "570a5da2-ad99-4a7b-a2c5-3f21ebeb2675"
      },
      "id": "BbuThuOY-N5C",
      "execution_count": 296,
      "outputs": [
        {
          "output_type": "display_data",
          "data": {
            "image/png": "[encoded data removed]",
            "text/plain": [
              "<Figure size 432x288 with 1 Axes>"
            ]
          },
          "metadata": {
            "needs_background": "light"
          }
        }
      ]
    },
    {
      "cell_type": "markdown",
      "id": "adjustable-incentive",
      "metadata": {
        "id": "adjustable-incentive"
      },
      "source": [
        "## YOUR OBSERVATIONS:\n",
        "\n",
        "### Q1 a.\n",
        "* The target distribution has components. But the Normalizing Flow (RNVP as well as Planar Flow) is not able to model those disjoint components. Even in the space which is supposed to be empty, we get samples from our model there since the NF model makes the distribution \"flow\" and so getting discontinuities seems unlikely.\n",
        "\n",
        "* RNVP flow seems to give better target shapes compared to Planar Flows. The RNVP model makes use of Neural Networks which would have better modelling power. The Planar Flow form is relatively simple.  \n",
        "\n",
        "* If we increase the Neural Network size of RNVP or increase the n_flows too much then training becomes slighly unstable. This could be an issue of the size of the dataset.\n",
        "\n",
        "* RNVP gives a better histogram plot compared to Planar Flow since the number of samples with big mismatch between $p_x^*$ and $p_x$ are very less.\n",
        "\n",
        "### Q1 b.\n",
        "* We use the nf_rnvp with same parameters as 1a in this case too. But based on the samples generated, training rnvp flows using samples gives better results than training with the $p_x^*(x)$ function.  \n",
        "* The Planar Flow model also doesn't generate samples which look like the target distribution.  \n",
        "* Planar Flow gives a better histogram plot compared to RNVP since the number of samples with big mismatch between $p_x^*$ and $p_x$ are very less.\n",
        "\n",
        "#### Common Points\n",
        "A larger learning rate with the Adam optimizer became unstable and could lead to ```inf``` error.\n",
        "\n",
        "\n",
        "\n",
        "### Q1 c. \n",
        "\n",
        "* For understanding the model better, we take the RNVP Flow.    \n",
        "We first plot each component of the GMM in different colours. For each component cluster, we run the $T^{-1}$ on it and plot those $u$ in the same colour.   \n",
        "This gives us some idea about where the corresponding components are coming from  \n",
        "\n",
        "  \n",
        "\n",
        "* Another experiment we run is taking samples from the base distribution and then transform them to get $x_i = T(u_i)$. Now for each $x_i$ we find which component of the GMM it is most likely to belong to and plot that $u_i$ in the same colour.  \n",
        "This gives us some idea about division of space in the base distribution.\n"
      ]
    },
    {
      "cell_type": "markdown",
      "id": "surrounded-philippines",
      "metadata": {
        "id": "surrounded-philippines"
      },
      "source": [
        "# Q2: Importance Sampling\n",
        "Use the codes and models of Q1 to solve this problem\n",
        "1. Assume you do not have access to `ptarget.sample()` but only to `ptarget.prob()`. Estimate $E[x^2]$ using the NF models of Q1a and Q1b. Write your obervations in the markdown block below the plots. [5 marks]\n",
        "2. Evaluation: Now using the complete class `ptarget`, find $E[x^2]$ and compare it with the value computed in Q2.1. Write your obervations in the markdown block below the plots. [5 marks]"
      ]
    },
    {
      "cell_type": "markdown",
      "id": "spiritual-contents",
      "metadata": {
        "id": "spiritual-contents"
      },
      "source": [
        "## YOUR CODE:"
      ]
    },
    {
      "cell_type": "markdown",
      "source": [
        "$\\mathbb{E} [f] = \\frac{1}{S} \\sum_{i=1}^S f(x_i) \\frac{p(x_i)}{q(x_i)}$ where $x_i$ ~ $q(x)$  \n",
        "Here $q(x)$ is our Normalizing flow model"
      ],
      "metadata": {
        "id": "Kze-oNgWgnx_"
      },
      "id": "Kze-oNgWgnx_"
    },
    {
      "cell_type": "code",
      "execution_count": 297,
      "id": "balanced-emphasis",
      "metadata": {
        "colab": {
          "base_uri": "https://localhost:8080/"
        },
        "id": "balanced-emphasis",
        "outputId": "4ecf48b1-f2df-4f79-dc47-084b8a8b422f"
      },
      "outputs": [
        {
          "output_type": "stream",
          "name": "stdout",
          "text": [
            "[0.84337156 1.26353491]\n"
          ]
        }
      ],
      "source": [
        "##### Q2.1 #####\n",
        "\n",
        "# RNVP from 1a : 10 samples\n",
        "u = base_dist.sample(10)\n",
        "x, log_det_jacob_forward_transf = nf_rnvp.complete_forward(u)\n",
        "\n",
        "u = u.numpy()\n",
        "x = x.numpy()\n",
        "log_det_jacob_inv_transf = -log_det_jacob_forward_transf.numpy()\n",
        "\n",
        "q_x = (p_u.prob(u).reshape(-1,1) * np.exp(log_det_jacob_inv_transf)).reshape(-1)\n",
        "p_x = ptarget.prob(x)\n",
        "Ef = ((x**2) * (p_x/q_x).reshape(-1,1)).mean(axis=0)\n",
        "\n",
        "print(Ef)"
      ]
    },
    {
      "cell_type": "code",
      "source": [
        "# RNVP from 1a : 100 samples\n",
        "u = base_dist.sample(100)\n",
        "x, log_det_jacob_forward_transf = nf_rnvp.complete_forward(u)\n",
        "\n",
        "u = u.numpy()\n",
        "x = x.numpy()\n",
        "log_det_jacob_inv_transf = -log_det_jacob_forward_transf.numpy()\n",
        "\n",
        "q_x = (p_u.prob(u).reshape(-1,1) * np.exp(log_det_jacob_inv_transf)).reshape(-1)\n",
        "p_x = ptarget.prob(x)\n",
        "Ef = ((x**2) * (p_x/q_x).reshape(-1,1)).mean(axis=0)\n",
        "\n",
        "print(Ef)"
      ],
      "metadata": {
        "colab": {
          "base_uri": "https://localhost:8080/"
        },
        "id": "fx5fyKj0rTuv",
        "outputId": "65bf34ed-9339-4358-a0ca-f50d041a1c8a"
      },
      "id": "fx5fyKj0rTuv",
      "execution_count": 298,
      "outputs": [
        {
          "output_type": "stream",
          "name": "stdout",
          "text": [
            "[1.03022534 3.30677126]\n"
          ]
        }
      ]
    },
    {
      "cell_type": "code",
      "source": [
        "# RNVP from 1a : 1000 samples\n",
        "u = base_dist.sample(1000)\n",
        "x, log_det_jacob_forward_transf = nf_rnvp.complete_forward(u)\n",
        "\n",
        "u = u.numpy()\n",
        "x = x.numpy()\n",
        "log_det_jacob_inv_transf = -log_det_jacob_forward_transf.numpy()\n",
        "\n",
        "q_x = (p_u.prob(u).reshape(-1,1) * np.exp(log_det_jacob_inv_transf)).reshape(-1)\n",
        "p_x = ptarget.prob(x)\n",
        "Ef = ((x**2) * (p_x/q_x).reshape(-1,1)).mean(axis=0)\n",
        "\n",
        "print(Ef)"
      ],
      "metadata": {
        "colab": {
          "base_uri": "https://localhost:8080/"
        },
        "id": "K1rJRZ_vqr4B",
        "outputId": "db9f9285-7cf6-4d5f-c7e4-be89db026061"
      },
      "id": "K1rJRZ_vqr4B",
      "execution_count": 299,
      "outputs": [
        {
          "output_type": "stream",
          "name": "stdout",
          "text": [
            "[4.88045725 5.58899565]\n"
          ]
        }
      ]
    },
    {
      "cell_type": "code",
      "source": [
        "# RNVP from 1a : 10000 samples\n",
        "u = base_dist.sample(10000)\n",
        "x, log_det_jacob_forward_transf = nf_rnvp.complete_forward(u)\n",
        "\n",
        "u = u.numpy()\n",
        "x = x.numpy()\n",
        "log_det_jacob_inv_transf = -log_det_jacob_forward_transf.numpy()\n",
        "\n",
        "q_x = (p_u.prob(u).reshape(-1,1) * np.exp(log_det_jacob_inv_transf)).reshape(-1)\n",
        "p_x = ptarget.prob(x)\n",
        "Ef = ((x**2) * (p_x/q_x).reshape(-1,1)).mean(axis=0)\n",
        "\n",
        "print(Ef)"
      ],
      "metadata": {
        "colab": {
          "base_uri": "https://localhost:8080/"
        },
        "id": "JPznwJGorbev",
        "outputId": "f1f77d52-db34-461d-805d-b63f3f97f5a1"
      },
      "id": "JPznwJGorbev",
      "execution_count": 300,
      "outputs": [
        {
          "output_type": "stream",
          "name": "stdout",
          "text": [
            "[1.86192007 6.01427401]\n"
          ]
        }
      ]
    },
    {
      "cell_type": "code",
      "source": [
        "# Planar Flow from 1b : 10 samples\n",
        "u = base_dist.sample(10)\n",
        "x, log_det_jacob_forward_transf = nf_planar_2.complete_forward(u)\n",
        "\n",
        "u = u.numpy()\n",
        "x = x.numpy()\n",
        "log_det_jacob_inv_transf = -log_det_jacob_forward_transf.numpy()\n",
        "\n",
        "q_x = p_u.prob(u) * np.exp(log_det_jacob_inv_transf).reshape(-1)\n",
        "p_x = ptarget.prob(x)\n",
        "# print(q_x.shape, p_x.shape)\n",
        "Ef = ((x**2) * (p_x/q_x).reshape(-1,1)).mean(axis=0)\n",
        "\n",
        "print(Ef)"
      ],
      "metadata": {
        "colab": {
          "base_uri": "https://localhost:8080/"
        },
        "id": "eZ7gODhYtawe",
        "outputId": "320177e0-20eb-4eb6-b325-506454315b62"
      },
      "id": "eZ7gODhYtawe",
      "execution_count": 301,
      "outputs": [
        {
          "output_type": "stream",
          "name": "stdout",
          "text": [
            "[0.27112161 0.19213768]\n"
          ]
        }
      ]
    },
    {
      "cell_type": "code",
      "source": [
        "# Planar Flow from 1b : 100 samples\n",
        "u = base_dist.sample(100)\n",
        "x, log_det_jacob_forward_transf = nf_planar_2.complete_forward(u)\n",
        "\n",
        "u = u.numpy()\n",
        "x = x.numpy()\n",
        "log_det_jacob_inv_transf = -log_det_jacob_forward_transf.numpy()\n",
        "\n",
        "q_x = p_u.prob(u) * np.exp(log_det_jacob_inv_transf).reshape(-1)\n",
        "p_x = ptarget.prob(x)\n",
        "# print(q_x.shape, p_x.shape)\n",
        "Ef = ((x**2) * (p_x/q_x).reshape(-1,1)).mean(axis=0)\n",
        "\n",
        "print(Ef)"
      ],
      "metadata": {
        "colab": {
          "base_uri": "https://localhost:8080/"
        },
        "id": "Q563Trx1xk2E",
        "outputId": "ecd1358e-cf44-4a28-fd2d-816d4003372e"
      },
      "id": "Q563Trx1xk2E",
      "execution_count": 302,
      "outputs": [
        {
          "output_type": "stream",
          "name": "stdout",
          "text": [
            "[0.65030138 0.482233  ]\n"
          ]
        }
      ]
    },
    {
      "cell_type": "code",
      "source": [
        "# Planar Flow from 1b : 1000 samples\n",
        "u = base_dist.sample(1000)\n",
        "x, log_det_jacob_forward_transf = nf_planar_2.complete_forward(u)\n",
        "\n",
        "u = u.numpy()\n",
        "x = x.numpy()\n",
        "log_det_jacob_inv_transf = -log_det_jacob_forward_transf.numpy()\n",
        "\n",
        "q_x = p_u.prob(u) * np.exp(log_det_jacob_inv_transf).reshape(-1)\n",
        "p_x = ptarget.prob(x)\n",
        "# print(q_x.shape, p_x.shape)\n",
        "Ef = ((x**2) * (p_x/q_x).reshape(-1,1)).mean(axis=0)\n",
        "\n",
        "print(Ef)"
      ],
      "metadata": {
        "colab": {
          "base_uri": "https://localhost:8080/"
        },
        "id": "v6s0ovt0xn8a",
        "outputId": "a4f9b939-b35d-4cf2-b16d-4ac2ac35530e"
      },
      "id": "v6s0ovt0xn8a",
      "execution_count": 303,
      "outputs": [
        {
          "output_type": "stream",
          "name": "stdout",
          "text": [
            "[0.7541463  0.40838107]\n"
          ]
        }
      ]
    },
    {
      "cell_type": "code",
      "source": [
        "# Planar Flow from 1b : 10000 samples\n",
        "u = base_dist.sample(10000)\n",
        "x, log_det_jacob_forward_transf = nf_planar_2.complete_forward(u)\n",
        "\n",
        "u = u.numpy()\n",
        "x = x.numpy()\n",
        "log_det_jacob_inv_transf = -log_det_jacob_forward_transf.numpy()\n",
        "\n",
        "q_x = p_u.prob(u) * np.exp(log_det_jacob_inv_transf).reshape(-1)\n",
        "p_x = ptarget.prob(x)\n",
        "# print(q_x.shape, p_x.shape)\n",
        "Ef = ((x**2) * (p_x/q_x).reshape(-1,1)).mean(axis=0)\n",
        "\n",
        "print(Ef)"
      ],
      "metadata": {
        "colab": {
          "base_uri": "https://localhost:8080/"
        },
        "id": "xMa29S82xrBW",
        "outputId": "6285c14b-33c6-4f75-98aa-4c803cabd498"
      },
      "id": "xMa29S82xrBW",
      "execution_count": 304,
      "outputs": [
        {
          "output_type": "stream",
          "name": "stdout",
          "text": [
            "[0.98636129 0.51132148]\n"
          ]
        }
      ]
    },
    {
      "cell_type": "code",
      "execution_count": 305,
      "id": "specialized-accused",
      "metadata": {
        "colab": {
          "base_uri": "https://localhost:8080/"
        },
        "id": "specialized-accused",
        "outputId": "08f04498-5b7c-4d1c-b403-968321cab7f9"
      },
      "outputs": [
        {
          "output_type": "stream",
          "name": "stdout",
          "text": [
            "[0.01404067 0.11816142 0.40426436 0.45028626 0.01324729]\n",
            "[0 2 3 5 0]\n",
            "10  samples : [2.25819302 3.72906375]\n",
            "[0.01404067 0.11816142 0.40426436 0.45028626 0.01324729]\n",
            "[ 1 10 41 46  2]\n",
            "100  samples : [1.79897686 5.55703801]\n",
            "[0.01404067 0.11816142 0.40426436 0.45028626 0.01324729]\n",
            "[ 15 105 395 473  12]\n",
            "1000  samples : [1.84378065 5.32502248]\n",
            "[0.01404067 0.11816142 0.40426436 0.45028626 0.01324729]\n",
            "[ 149 1218 4081 4416  136]\n",
            "10000  samples : [1.92960755 5.48174355]\n"
          ]
        }
      ],
      "source": [
        "##### Q2.2 #####\n",
        "S = [10, 100, 1000, 10000]\n",
        "for s in S: \n",
        "    x_s = ptarget.sample(s)\n",
        "    Ef = (x_s**2).mean(axis=0)\n",
        "    print(s, \" samples :\", Ef)"
      ]
    },
    {
      "cell_type": "markdown",
      "id": "political-chest",
      "metadata": {
        "id": "political-chest"
      },
      "source": [
        "## YOUR OBSERVATIONS:\n",
        "\n",
        "### Q2.1\n",
        "RNVP Flow : Initially the estimates are bad, but when the we have around 10000 samples, Importance Sampling via RNVP gives us a decent estimate of $[1.86192007,\\ 6.01427401]$\n",
        "  \n",
        "\n",
        "Planar Flow :  Planar Flow does not give us a nice estimate. \n",
        "\n",
        "We can try and explain this via the histograms.   \n",
        "For rnvp in 1a, we get a good histogram, wherein most of our samples have very little difference in $p_x^*$ and $p_x$.  \n",
        "\n",
        "However, for Planar Flow, there is a significant proportion of values where the difference between $p_x^*$ and $p_x$ is big and this is an issue we need to be careful of while doing importance sampling. We need $q(x)$ to be significant where $p(x)$ is significant.\n",
        "\n",
        "### Q2.2\n",
        "Monte Carlo Approximation from $p_x^*(x)$.  \n",
        "As the number of samples increase, we start getting a stable value. \n",
        "At around ~1000 samples we start getting stable values :   \n",
        "$\\mathbb{E}[x^2] = [1.92960755,\\ 5.48174355]$"
      ]
    }
  ],
  "metadata": {
    "kernelspec": {
      "display_name": "Python 3 (ipykernel)",
      "language": "python",
      "name": "python3"
    },
    "language_info": {
      "codemirror_mode": {
        "name": "ipython",
        "version": 3
      },
      "file_extension": ".py",
      "mimetype": "text/x-python",
      "name": "python",
      "nbconvert_exporter": "python",
      "pygments_lexer": "ipython3",
      "version": "3.6.9"
    },
    "colab": {
      "name": "CodingQuiz1.ipynb",
      "provenance": [],
      "collapsed_sections": []
    }
  },
  "nbformat": 4,
  "nbformat_minor": 5
}